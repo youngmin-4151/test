{
 "cells": [
  {
   "cell_type": "markdown",
   "metadata": {},
   "source": [
    "# 공공데이터 상권정보 분석"
   ]
  },
  {
   "cell_type": "markdown",
   "metadata": {},
   "source": [
    "## 필요한 라이브러리 불러오기"
   ]
  },
  {
   "cell_type": "code",
   "execution_count": 1,
   "metadata": {},
   "outputs": [],
   "source": [
    "import pandas as pd\n",
    "import numpy as np # 수치 계산을 위해\n",
    "import seaborn as sns # 데이터 시각화를 위해"
   ]
  },
  {
   "cell_type": "markdown",
   "metadata": {},
   "source": [
    "## 시각화를 위한 폰트 설정"
   ]
  },
  {
   "cell_type": "code",
   "execution_count": 2,
   "metadata": {},
   "outputs": [],
   "source": [
    "# 주석처리 : ctrl + /\n",
    "import matplotlib.pyplot as plt\n",
    "# 윈도우의 한글 폰트 설정\n",
    "plt.rc('font', family='malgun Gothic')\n",
    "\n",
    "# 그래프가 노트북 안에 보이게 하기 위해\n",
    "%matplotlib inline"
   ]
  },
  {
   "cell_type": "markdown",
   "metadata": {},
   "source": [
    "## 데이터 로드하기\n",
    " * 판다스에서 데이터를 로드할 때는 read_csv를 사용\n",
    " * 데이터를 로드해서 df라는 변수에 담기\n",
    " * shape를 통해 데이터의 갯수를 찍는다. 그 결과는 (행,열)순으로 출력"
   ]
  },
  {
   "cell_type": "code",
   "execution_count": 3,
   "metadata": {
    "scrolled": true
   },
   "outputs": [
    {
     "data": {
      "text/plain": [
       "(91335, 39)"
      ]
     },
     "execution_count": 3,
     "metadata": {},
     "output_type": "execute_result"
    }
   ],
   "source": [
    "#read_csv로 불러온 파일을 df라는 변수에 담는다\n",
    "df = pd.read_csv(\"C:/Users/kim/jupyter/data analysis/소상공인시장진흥공단_상가업소정보_의료기관_201909.csv\",low_memory=False,encoding=\"UTF8\")\n",
    "df.shape"
   ]
  },
  {
   "cell_type": "markdown",
   "metadata": {},
   "source": [
    "## 데이터 미리보기\n",
    "* head,tail을 통해 데이터를 미리 볼 수 있다. "
   ]
  },
  {
   "cell_type": "code",
   "execution_count": 4,
   "metadata": {},
   "outputs": [
    {
     "data": {
      "text/html": [
       "<div>\n",
       "<style scoped>\n",
       "    .dataframe tbody tr th:only-of-type {\n",
       "        vertical-align: middle;\n",
       "    }\n",
       "\n",
       "    .dataframe tbody tr th {\n",
       "        vertical-align: top;\n",
       "    }\n",
       "\n",
       "    .dataframe thead th {\n",
       "        text-align: right;\n",
       "    }\n",
       "</style>\n",
       "<table border=\"1\" class=\"dataframe\">\n",
       "  <thead>\n",
       "    <tr style=\"text-align: right;\">\n",
       "      <th></th>\n",
       "      <th>상가업소번호</th>\n",
       "      <th>상호명</th>\n",
       "      <th>지점명</th>\n",
       "      <th>상권업종대분류코드</th>\n",
       "      <th>상권업종대분류명</th>\n",
       "      <th>상권업종중분류코드</th>\n",
       "      <th>상권업종중분류명</th>\n",
       "      <th>상권업종소분류코드</th>\n",
       "      <th>상권업종소분류명</th>\n",
       "      <th>표준산업분류코드</th>\n",
       "      <th>...</th>\n",
       "      <th>건물관리번호</th>\n",
       "      <th>건물명</th>\n",
       "      <th>도로명주소</th>\n",
       "      <th>구우편번호</th>\n",
       "      <th>신우편번호</th>\n",
       "      <th>동정보</th>\n",
       "      <th>층정보</th>\n",
       "      <th>호정보</th>\n",
       "      <th>경도</th>\n",
       "      <th>위도</th>\n",
       "    </tr>\n",
       "  </thead>\n",
       "  <tbody>\n",
       "    <tr>\n",
       "      <th>0</th>\n",
       "      <td>19956873</td>\n",
       "      <td>하나산부인과</td>\n",
       "      <td>NaN</td>\n",
       "      <td>S</td>\n",
       "      <td>의료</td>\n",
       "      <td>S01</td>\n",
       "      <td>병원</td>\n",
       "      <td>S01B10</td>\n",
       "      <td>산부인과</td>\n",
       "      <td>Q86201</td>\n",
       "      <td>...</td>\n",
       "      <td>4127310900110810000010857</td>\n",
       "      <td>산호한양아파트</td>\n",
       "      <td>경기도 안산시 단원구 달미로 10</td>\n",
       "      <td>425764.0</td>\n",
       "      <td>15236.0</td>\n",
       "      <td>NaN</td>\n",
       "      <td>NaN</td>\n",
       "      <td>NaN</td>\n",
       "      <td>126.814295</td>\n",
       "      <td>37.336344</td>\n",
       "    </tr>\n",
       "    <tr>\n",
       "      <th>1</th>\n",
       "      <td>20024149</td>\n",
       "      <td>타워광명내과의원</td>\n",
       "      <td>NaN</td>\n",
       "      <td>S</td>\n",
       "      <td>의료</td>\n",
       "      <td>S01</td>\n",
       "      <td>병원</td>\n",
       "      <td>S01B07</td>\n",
       "      <td>내과/외과</td>\n",
       "      <td>Q86201</td>\n",
       "      <td>...</td>\n",
       "      <td>1168011800104670014000001</td>\n",
       "      <td>NaN</td>\n",
       "      <td>서울특별시 강남구 언주로30길 39</td>\n",
       "      <td>135270.0</td>\n",
       "      <td>6292.0</td>\n",
       "      <td>NaN</td>\n",
       "      <td>4</td>\n",
       "      <td>NaN</td>\n",
       "      <td>127.053198</td>\n",
       "      <td>37.488742</td>\n",
       "    </tr>\n",
       "    <tr>\n",
       "      <th>2</th>\n",
       "      <td>20152277</td>\n",
       "      <td>조정현신경외과의원</td>\n",
       "      <td>NaN</td>\n",
       "      <td>S</td>\n",
       "      <td>의료</td>\n",
       "      <td>S01</td>\n",
       "      <td>병원</td>\n",
       "      <td>S01B15</td>\n",
       "      <td>신경외과</td>\n",
       "      <td>Q86201</td>\n",
       "      <td>...</td>\n",
       "      <td>4139013200117400001017064</td>\n",
       "      <td>한라프라자</td>\n",
       "      <td>경기도 시흥시 중심상가로 178</td>\n",
       "      <td>429450.0</td>\n",
       "      <td>15066.0</td>\n",
       "      <td>NaN</td>\n",
       "      <td>NaN</td>\n",
       "      <td>NaN</td>\n",
       "      <td>126.734841</td>\n",
       "      <td>37.344955</td>\n",
       "    </tr>\n",
       "    <tr>\n",
       "      <th>3</th>\n",
       "      <td>20350610</td>\n",
       "      <td>한귀원정신과의원</td>\n",
       "      <td>NaN</td>\n",
       "      <td>S</td>\n",
       "      <td>의료</td>\n",
       "      <td>S01</td>\n",
       "      <td>병원</td>\n",
       "      <td>S01B99</td>\n",
       "      <td>기타병원</td>\n",
       "      <td>NaN</td>\n",
       "      <td>...</td>\n",
       "      <td>2650010400100740001009932</td>\n",
       "      <td>NaN</td>\n",
       "      <td>부산광역시 수영구 수영로 688</td>\n",
       "      <td>613100.0</td>\n",
       "      <td>48266.0</td>\n",
       "      <td>NaN</td>\n",
       "      <td>5</td>\n",
       "      <td>NaN</td>\n",
       "      <td>129.115438</td>\n",
       "      <td>35.166872</td>\n",
       "    </tr>\n",
       "    <tr>\n",
       "      <th>4</th>\n",
       "      <td>20364049</td>\n",
       "      <td>더블유스토어수지점</td>\n",
       "      <td>수지점</td>\n",
       "      <td>S</td>\n",
       "      <td>의료</td>\n",
       "      <td>S02</td>\n",
       "      <td>약국/한약방</td>\n",
       "      <td>S02A01</td>\n",
       "      <td>약국</td>\n",
       "      <td>G47811</td>\n",
       "      <td>...</td>\n",
       "      <td>4146510100107120002026238</td>\n",
       "      <td>NaN</td>\n",
       "      <td>경기도 용인시 수지구 문정로 32</td>\n",
       "      <td>448170.0</td>\n",
       "      <td>16837.0</td>\n",
       "      <td>NaN</td>\n",
       "      <td>1</td>\n",
       "      <td>NaN</td>\n",
       "      <td>127.095522</td>\n",
       "      <td>37.323528</td>\n",
       "    </tr>\n",
       "  </tbody>\n",
       "</table>\n",
       "<p>5 rows × 39 columns</p>\n",
       "</div>"
      ],
      "text/plain": [
       "     상가업소번호        상호명  지점명 상권업종대분류코드 상권업종대분류명 상권업종중분류코드 상권업종중분류명 상권업종소분류코드  \\\n",
       "0  19956873     하나산부인과  NaN         S       의료       S01       병원    S01B10   \n",
       "1  20024149   타워광명내과의원  NaN         S       의료       S01       병원    S01B07   \n",
       "2  20152277  조정현신경외과의원  NaN         S       의료       S01       병원    S01B15   \n",
       "3  20350610   한귀원정신과의원  NaN         S       의료       S01       병원    S01B99   \n",
       "4  20364049  더블유스토어수지점  수지점         S       의료       S02   약국/한약방    S02A01   \n",
       "\n",
       "  상권업종소분류명 표준산업분류코드  ...                     건물관리번호      건물명  \\\n",
       "0     산부인과   Q86201  ...  4127310900110810000010857  산호한양아파트   \n",
       "1    내과/외과   Q86201  ...  1168011800104670014000001      NaN   \n",
       "2     신경외과   Q86201  ...  4139013200117400001017064    한라프라자   \n",
       "3     기타병원      NaN  ...  2650010400100740001009932      NaN   \n",
       "4       약국   G47811  ...  4146510100107120002026238      NaN   \n",
       "\n",
       "                 도로명주소     구우편번호    신우편번호  동정보  층정보  호정보          경도  \\\n",
       "0   경기도 안산시 단원구 달미로 10  425764.0  15236.0  NaN  NaN  NaN  126.814295   \n",
       "1  서울특별시 강남구 언주로30길 39  135270.0   6292.0  NaN    4  NaN  127.053198   \n",
       "2    경기도 시흥시 중심상가로 178  429450.0  15066.0  NaN  NaN  NaN  126.734841   \n",
       "3    부산광역시 수영구 수영로 688  613100.0  48266.0  NaN    5  NaN  129.115438   \n",
       "4   경기도 용인시 수지구 문정로 32  448170.0  16837.0  NaN    1  NaN  127.095522   \n",
       "\n",
       "          위도  \n",
       "0  37.336344  \n",
       "1  37.488742  \n",
       "2  37.344955  \n",
       "3  35.166872  \n",
       "4  37.323528  \n",
       "\n",
       "[5 rows x 39 columns]"
      ]
     },
     "execution_count": 4,
     "metadata": {},
     "output_type": "execute_result"
    }
   ],
   "source": [
    "# head로 데이터를 미리보기\n",
    "# shift + tab : docstirng을 볼 수 있음\n",
    "df.head()"
   ]
  },
  {
   "cell_type": "code",
   "execution_count": 5,
   "metadata": {},
   "outputs": [
    {
     "data": {
      "text/html": [
       "<div>\n",
       "<style scoped>\n",
       "    .dataframe tbody tr th:only-of-type {\n",
       "        vertical-align: middle;\n",
       "    }\n",
       "\n",
       "    .dataframe tbody tr th {\n",
       "        vertical-align: top;\n",
       "    }\n",
       "\n",
       "    .dataframe thead th {\n",
       "        text-align: right;\n",
       "    }\n",
       "</style>\n",
       "<table border=\"1\" class=\"dataframe\">\n",
       "  <thead>\n",
       "    <tr style=\"text-align: right;\">\n",
       "      <th></th>\n",
       "      <th>상가업소번호</th>\n",
       "      <th>상호명</th>\n",
       "      <th>지점명</th>\n",
       "      <th>상권업종대분류코드</th>\n",
       "      <th>상권업종대분류명</th>\n",
       "      <th>상권업종중분류코드</th>\n",
       "      <th>상권업종중분류명</th>\n",
       "      <th>상권업종소분류코드</th>\n",
       "      <th>상권업종소분류명</th>\n",
       "      <th>표준산업분류코드</th>\n",
       "      <th>...</th>\n",
       "      <th>건물관리번호</th>\n",
       "      <th>건물명</th>\n",
       "      <th>도로명주소</th>\n",
       "      <th>구우편번호</th>\n",
       "      <th>신우편번호</th>\n",
       "      <th>동정보</th>\n",
       "      <th>층정보</th>\n",
       "      <th>호정보</th>\n",
       "      <th>경도</th>\n",
       "      <th>위도</th>\n",
       "    </tr>\n",
       "  </thead>\n",
       "  <tbody>\n",
       "    <tr>\n",
       "      <th>91330</th>\n",
       "      <td>16196725</td>\n",
       "      <td>온누리약국</td>\n",
       "      <td>베스트</td>\n",
       "      <td>S</td>\n",
       "      <td>의료</td>\n",
       "      <td>S02</td>\n",
       "      <td>약국/한약방</td>\n",
       "      <td>S02A01</td>\n",
       "      <td>약국</td>\n",
       "      <td>G47811</td>\n",
       "      <td>...</td>\n",
       "      <td>3017011200115070000021096</td>\n",
       "      <td>NaN</td>\n",
       "      <td>대전광역시 서구 문예로 67</td>\n",
       "      <td>302831.0</td>\n",
       "      <td>35240.0</td>\n",
       "      <td>NaN</td>\n",
       "      <td>NaN</td>\n",
       "      <td>NaN</td>\n",
       "      <td>127.389865</td>\n",
       "      <td>36.352728</td>\n",
       "    </tr>\n",
       "    <tr>\n",
       "      <th>91331</th>\n",
       "      <td>16192180</td>\n",
       "      <td>리원</td>\n",
       "      <td>봄산후조</td>\n",
       "      <td>S</td>\n",
       "      <td>의료</td>\n",
       "      <td>S07</td>\n",
       "      <td>의료관련서비스업</td>\n",
       "      <td>S07A07</td>\n",
       "      <td>산후조리원</td>\n",
       "      <td>S96993</td>\n",
       "      <td>...</td>\n",
       "      <td>4128112300111460000011715</td>\n",
       "      <td>청한프라자</td>\n",
       "      <td>경기도 고양시 덕양구 성신로 14</td>\n",
       "      <td>412827.0</td>\n",
       "      <td>10503.0</td>\n",
       "      <td>NaN</td>\n",
       "      <td>NaN</td>\n",
       "      <td>NaN</td>\n",
       "      <td>126.830144</td>\n",
       "      <td>37.627530</td>\n",
       "    </tr>\n",
       "    <tr>\n",
       "      <th>91332</th>\n",
       "      <td>16127538</td>\n",
       "      <td>참좋은요양병원</td>\n",
       "      <td>NaN</td>\n",
       "      <td>S</td>\n",
       "      <td>의료</td>\n",
       "      <td>S01</td>\n",
       "      <td>병원</td>\n",
       "      <td>S01B17</td>\n",
       "      <td>노인/치매병원</td>\n",
       "      <td>Q86102</td>\n",
       "      <td>...</td>\n",
       "      <td>2641010800105380001005572</td>\n",
       "      <td>한신시티빌</td>\n",
       "      <td>부산광역시 금정구 금강로 209</td>\n",
       "      <td>609841.0</td>\n",
       "      <td>46294.0</td>\n",
       "      <td>NaN</td>\n",
       "      <td>2</td>\n",
       "      <td>NaN</td>\n",
       "      <td>129.082790</td>\n",
       "      <td>35.227138</td>\n",
       "    </tr>\n",
       "    <tr>\n",
       "      <th>91333</th>\n",
       "      <td>16108681</td>\n",
       "      <td>경희중앙한의원</td>\n",
       "      <td>NaN</td>\n",
       "      <td>S</td>\n",
       "      <td>의료</td>\n",
       "      <td>S01</td>\n",
       "      <td>병원</td>\n",
       "      <td>S01B06</td>\n",
       "      <td>한의원</td>\n",
       "      <td>Q86203</td>\n",
       "      <td>...</td>\n",
       "      <td>1174010500103450009002392</td>\n",
       "      <td>NaN</td>\n",
       "      <td>서울특별시 강동구 천중로 213</td>\n",
       "      <td>134811.0</td>\n",
       "      <td>5303.0</td>\n",
       "      <td>NaN</td>\n",
       "      <td>NaN</td>\n",
       "      <td>NaN</td>\n",
       "      <td>127.143958</td>\n",
       "      <td>37.540993</td>\n",
       "    </tr>\n",
       "    <tr>\n",
       "      <th>91334</th>\n",
       "      <td>16109073</td>\n",
       "      <td>천안김안과천안역본점의원</td>\n",
       "      <td>NaN</td>\n",
       "      <td>S</td>\n",
       "      <td>의료</td>\n",
       "      <td>S01</td>\n",
       "      <td>병원</td>\n",
       "      <td>S01B13</td>\n",
       "      <td>안과의원</td>\n",
       "      <td>Q86201</td>\n",
       "      <td>...</td>\n",
       "      <td>4413110700102660017016314</td>\n",
       "      <td>김안과</td>\n",
       "      <td>충청남도 천안시 동남구 중앙로 92</td>\n",
       "      <td>330952.0</td>\n",
       "      <td>31127.0</td>\n",
       "      <td>NaN</td>\n",
       "      <td>NaN</td>\n",
       "      <td>NaN</td>\n",
       "      <td>127.152651</td>\n",
       "      <td>36.806640</td>\n",
       "    </tr>\n",
       "  </tbody>\n",
       "</table>\n",
       "<p>5 rows × 39 columns</p>\n",
       "</div>"
      ],
      "text/plain": [
       "         상가업소번호           상호명   지점명 상권업종대분류코드 상권업종대분류명 상권업종중분류코드  상권업종중분류명  \\\n",
       "91330  16196725         온누리약국   베스트         S       의료       S02    약국/한약방   \n",
       "91331  16192180            리원  봄산후조         S       의료       S07  의료관련서비스업   \n",
       "91332  16127538       참좋은요양병원   NaN         S       의료       S01        병원   \n",
       "91333  16108681       경희중앙한의원   NaN         S       의료       S01        병원   \n",
       "91334  16109073  천안김안과천안역본점의원   NaN         S       의료       S01        병원   \n",
       "\n",
       "      상권업종소분류코드 상권업종소분류명 표준산업분류코드  ...                     건물관리번호    건물명  \\\n",
       "91330    S02A01       약국   G47811  ...  3017011200115070000021096    NaN   \n",
       "91331    S07A07    산후조리원   S96993  ...  4128112300111460000011715  청한프라자   \n",
       "91332    S01B17  노인/치매병원   Q86102  ...  2641010800105380001005572  한신시티빌   \n",
       "91333    S01B06      한의원   Q86203  ...  1174010500103450009002392    NaN   \n",
       "91334    S01B13     안과의원   Q86201  ...  4413110700102660017016314    김안과   \n",
       "\n",
       "                     도로명주소     구우편번호    신우편번호  동정보  층정보  호정보          경도  \\\n",
       "91330      대전광역시 서구 문예로 67  302831.0  35240.0  NaN  NaN  NaN  127.389865   \n",
       "91331   경기도 고양시 덕양구 성신로 14  412827.0  10503.0  NaN  NaN  NaN  126.830144   \n",
       "91332    부산광역시 금정구 금강로 209  609841.0  46294.0  NaN    2  NaN  129.082790   \n",
       "91333    서울특별시 강동구 천중로 213  134811.0   5303.0  NaN  NaN  NaN  127.143958   \n",
       "91334  충청남도 천안시 동남구 중앙로 92  330952.0  31127.0  NaN  NaN  NaN  127.152651   \n",
       "\n",
       "              위도  \n",
       "91330  36.352728  \n",
       "91331  37.627530  \n",
       "91332  35.227138  \n",
       "91333  37.540993  \n",
       "91334  36.806640  \n",
       "\n",
       "[5 rows x 39 columns]"
      ]
     },
     "execution_count": 5,
     "metadata": {},
     "output_type": "execute_result"
    }
   ],
   "source": [
    "# tail로 마지막 부분에 있는 데이터를 불러옴\n",
    "df.tail()"
   ]
  },
  {
   "cell_type": "code",
   "execution_count": 6,
   "metadata": {},
   "outputs": [
    {
     "data": {
      "text/html": [
       "<div>\n",
       "<style scoped>\n",
       "    .dataframe tbody tr th:only-of-type {\n",
       "        vertical-align: middle;\n",
       "    }\n",
       "\n",
       "    .dataframe tbody tr th {\n",
       "        vertical-align: top;\n",
       "    }\n",
       "\n",
       "    .dataframe thead th {\n",
       "        text-align: right;\n",
       "    }\n",
       "</style>\n",
       "<table border=\"1\" class=\"dataframe\">\n",
       "  <thead>\n",
       "    <tr style=\"text-align: right;\">\n",
       "      <th></th>\n",
       "      <th>상가업소번호</th>\n",
       "      <th>상호명</th>\n",
       "      <th>지점명</th>\n",
       "      <th>상권업종대분류코드</th>\n",
       "      <th>상권업종대분류명</th>\n",
       "      <th>상권업종중분류코드</th>\n",
       "      <th>상권업종중분류명</th>\n",
       "      <th>상권업종소분류코드</th>\n",
       "      <th>상권업종소분류명</th>\n",
       "      <th>표준산업분류코드</th>\n",
       "      <th>...</th>\n",
       "      <th>건물관리번호</th>\n",
       "      <th>건물명</th>\n",
       "      <th>도로명주소</th>\n",
       "      <th>구우편번호</th>\n",
       "      <th>신우편번호</th>\n",
       "      <th>동정보</th>\n",
       "      <th>층정보</th>\n",
       "      <th>호정보</th>\n",
       "      <th>경도</th>\n",
       "      <th>위도</th>\n",
       "    </tr>\n",
       "  </thead>\n",
       "  <tbody>\n",
       "    <tr>\n",
       "      <th>12658</th>\n",
       "      <td>24911953</td>\n",
       "      <td>갤러리동물병원</td>\n",
       "      <td>NaN</td>\n",
       "      <td>S</td>\n",
       "      <td>의료</td>\n",
       "      <td>S04</td>\n",
       "      <td>수의업</td>\n",
       "      <td>S04A01</td>\n",
       "      <td>수의업-종합</td>\n",
       "      <td>M73100</td>\n",
       "      <td>...</td>\n",
       "      <td>3114010500106290013013345</td>\n",
       "      <td>NaN</td>\n",
       "      <td>울산광역시 남구 삼산로 121</td>\n",
       "      <td>680802.0</td>\n",
       "      <td>44693.0</td>\n",
       "      <td>NaN</td>\n",
       "      <td>NaN</td>\n",
       "      <td>NaN</td>\n",
       "      <td>129.320595</td>\n",
       "      <td>35.535862</td>\n",
       "    </tr>\n",
       "  </tbody>\n",
       "</table>\n",
       "<p>1 rows × 39 columns</p>\n",
       "</div>"
      ],
      "text/plain": [
       "         상가업소번호      상호명  지점명 상권업종대분류코드 상권업종대분류명 상권업종중분류코드 상권업종중분류명 상권업종소분류코드  \\\n",
       "12658  24911953  갤러리동물병원  NaN         S       의료       S04      수의업    S04A01   \n",
       "\n",
       "      상권업종소분류명 표준산업분류코드  ...                     건물관리번호  건물명  \\\n",
       "12658   수의업-종합   M73100  ...  3114010500106290013013345  NaN   \n",
       "\n",
       "                  도로명주소     구우편번호    신우편번호  동정보  층정보  호정보          경도  \\\n",
       "12658  울산광역시 남구 삼산로 121  680802.0  44693.0  NaN  NaN  NaN  129.320595   \n",
       "\n",
       "              위도  \n",
       "12658  35.535862  \n",
       "\n",
       "[1 rows x 39 columns]"
      ]
     },
     "execution_count": 6,
     "metadata": {},
     "output_type": "execute_result"
    }
   ],
   "source": [
    "# sample로 미리보기\n",
    "df.sample()"
   ]
  },
  {
   "cell_type": "markdown",
   "metadata": {},
   "source": [
    "## 데이터 요약하기"
   ]
  },
  {
   "cell_type": "markdown",
   "metadata": {},
   "source": [
    "### 요약정보"
   ]
  },
  {
   "cell_type": "code",
   "execution_count": 7,
   "metadata": {},
   "outputs": [
    {
     "name": "stdout",
     "output_type": "stream",
     "text": [
      "<class 'pandas.core.frame.DataFrame'>\n",
      "RangeIndex: 91335 entries, 0 to 91334\n",
      "Data columns (total 39 columns):\n",
      " #   Column     Non-Null Count  Dtype  \n",
      "---  ------     --------------  -----  \n",
      " 0   상가업소번호     91335 non-null  int64  \n",
      " 1   상호명        91335 non-null  object \n",
      " 2   지점명        1346 non-null   object \n",
      " 3   상권업종대분류코드  91335 non-null  object \n",
      " 4   상권업종대분류명   91335 non-null  object \n",
      " 5   상권업종중분류코드  91335 non-null  object \n",
      " 6   상권업종중분류명   91335 non-null  object \n",
      " 7   상권업종소분류코드  91335 non-null  object \n",
      " 8   상권업종소분류명   91335 non-null  object \n",
      " 9   표준산업분류코드   86413 non-null  object \n",
      " 10  표준산업분류명    86413 non-null  object \n",
      " 11  시도코드       90956 non-null  float64\n",
      " 12  시도명        90956 non-null  object \n",
      " 13  시군구코드      90956 non-null  float64\n",
      " 14  시군구명       90956 non-null  object \n",
      " 15  행정동코드      91335 non-null  int64  \n",
      " 16  행정동명       90956 non-null  object \n",
      " 17  법정동코드      91280 non-null  float64\n",
      " 18  법정동명       91280 non-null  object \n",
      " 19  지번코드       91335 non-null  int64  \n",
      " 20  대지구분코드     91335 non-null  int64  \n",
      " 21  대지구분명      91335 non-null  object \n",
      " 22  지번본번지      91335 non-null  int64  \n",
      " 23  지번부번지      72079 non-null  float64\n",
      " 24  지번주소       91335 non-null  object \n",
      " 25  도로명코드      91335 non-null  int64  \n",
      " 26  도로명        91335 non-null  object \n",
      " 27  건물본번지      91335 non-null  int64  \n",
      " 28  건물부번지      10604 non-null  float64\n",
      " 29  건물관리번호     91335 non-null  object \n",
      " 30  건물명        46453 non-null  object \n",
      " 31  도로명주소      91335 non-null  object \n",
      " 32  구우편번호      91323 non-null  float64\n",
      " 33  신우편번호      91333 non-null  float64\n",
      " 34  동정보        7406 non-null   object \n",
      " 35  층정보        44044 non-null  object \n",
      " 36  호정보        15551 non-null  object \n",
      " 37  경도         91335 non-null  float64\n",
      " 38  위도         91335 non-null  float64\n",
      "dtypes: float64(9), int64(7), object(23)\n",
      "memory usage: 27.2+ MB\n"
     ]
    }
   ],
   "source": [
    "# info로 데이터의 요약을 봄\n",
    "df.info()"
   ]
  },
  {
   "cell_type": "markdown",
   "metadata": {},
   "source": [
    "### 컬럼명 보기"
   ]
  },
  {
   "cell_type": "code",
   "execution_count": 8,
   "metadata": {},
   "outputs": [
    {
     "data": {
      "text/plain": [
       "Index(['상가업소번호', '상호명', '지점명', '상권업종대분류코드', '상권업종대분류명', '상권업종중분류코드',\n",
       "       '상권업종중분류명', '상권업종소분류코드', '상권업종소분류명', '표준산업분류코드', '표준산업분류명', '시도코드',\n",
       "       '시도명', '시군구코드', '시군구명', '행정동코드', '행정동명', '법정동코드', '법정동명', '지번코드',\n",
       "       '대지구분코드', '대지구분명', '지번본번지', '지번부번지', '지번주소', '도로명코드', '도로명', '건물본번지',\n",
       "       '건물부번지', '건물관리번호', '건물명', '도로명주소', '구우편번호', '신우편번호', '동정보', '층정보',\n",
       "       '호정보', '경도', '위도'],\n",
       "      dtype='object')"
      ]
     },
     "execution_count": 8,
     "metadata": {},
     "output_type": "execute_result"
    }
   ],
   "source": [
    "# 컬럼명만 출력해 봄\n",
    "df.columns"
   ]
  },
  {
   "cell_type": "markdown",
   "metadata": {},
   "source": [
    "### 데이터 타입"
   ]
  },
  {
   "cell_type": "code",
   "execution_count": 9,
   "metadata": {},
   "outputs": [
    {
     "data": {
      "text/plain": [
       "상가업소번호         int64\n",
       "상호명           object\n",
       "지점명           object\n",
       "상권업종대분류코드     object\n",
       "상권업종대분류명      object\n",
       "상권업종중분류코드     object\n",
       "상권업종중분류명      object\n",
       "상권업종소분류코드     object\n",
       "상권업종소분류명      object\n",
       "표준산업분류코드      object\n",
       "표준산업분류명       object\n",
       "시도코드         float64\n",
       "시도명           object\n",
       "시군구코드        float64\n",
       "시군구명          object\n",
       "행정동코드          int64\n",
       "행정동명          object\n",
       "법정동코드        float64\n",
       "법정동명          object\n",
       "지번코드           int64\n",
       "대지구분코드         int64\n",
       "대지구분명         object\n",
       "지번본번지          int64\n",
       "지번부번지        float64\n",
       "지번주소          object\n",
       "도로명코드          int64\n",
       "도로명           object\n",
       "건물본번지          int64\n",
       "건물부번지        float64\n",
       "건물관리번호        object\n",
       "건물명           object\n",
       "도로명주소         object\n",
       "구우편번호        float64\n",
       "신우편번호        float64\n",
       "동정보           object\n",
       "층정보           object\n",
       "호정보           object\n",
       "경도           float64\n",
       "위도           float64\n",
       "dtype: object"
      ]
     },
     "execution_count": 9,
     "metadata": {},
     "output_type": "execute_result"
    }
   ],
   "source": [
    "# 데이터 타입만 출력\n",
    "df.dtypes"
   ]
  },
  {
   "cell_type": "markdown",
   "metadata": {},
   "source": [
    "## 결측치"
   ]
  },
  {
   "cell_type": "code",
   "execution_count": 10,
   "metadata": {},
   "outputs": [
    {
     "data": {
      "text/plain": [
       "True"
      ]
     },
     "execution_count": 10,
     "metadata": {},
     "output_type": "execute_result"
    }
   ],
   "source": [
    "True == 1 # 파이썬에서 True는 1이랑 같음"
   ]
  },
  {
   "cell_type": "code",
   "execution_count": 11,
   "metadata": {},
   "outputs": [
    {
     "data": {
      "text/plain": [
       "상가업소번호           0\n",
       "상호명              0\n",
       "지점명          89989\n",
       "상권업종대분류코드        0\n",
       "상권업종대분류명         0\n",
       "상권업종중분류코드        0\n",
       "상권업종중분류명         0\n",
       "상권업종소분류코드        0\n",
       "상권업종소분류명         0\n",
       "표준산업분류코드      4922\n",
       "표준산업분류명       4922\n",
       "시도코드           379\n",
       "시도명            379\n",
       "시군구코드          379\n",
       "시군구명           379\n",
       "행정동코드            0\n",
       "행정동명           379\n",
       "법정동코드           55\n",
       "법정동명            55\n",
       "지번코드             0\n",
       "대지구분코드           0\n",
       "대지구분명            0\n",
       "지번본번지            0\n",
       "지번부번지        19256\n",
       "지번주소             0\n",
       "도로명코드            0\n",
       "도로명              0\n",
       "건물본번지            0\n",
       "건물부번지        80731\n",
       "건물관리번호           0\n",
       "건물명          44882\n",
       "도로명주소            0\n",
       "구우편번호           12\n",
       "신우편번호            2\n",
       "동정보          83929\n",
       "층정보          47291\n",
       "호정보          75784\n",
       "경도               0\n",
       "위도               0\n",
       "dtype: int64"
      ]
     },
     "execution_count": 11,
     "metadata": {},
     "output_type": "execute_result"
    }
   ],
   "source": [
    "null_count = df.isnull().sum() # 결과 : True = Null / sum() : 합계개수를 나타냄 / null_count라는 변수에 담음\n",
    "null_count"
   ]
  },
  {
   "cell_type": "code",
   "execution_count": 12,
   "metadata": {},
   "outputs": [
    {
     "data": {
      "text/plain": [
       "<AxesSubplot:>"
      ]
     },
     "execution_count": 12,
     "metadata": {},
     "output_type": "execute_result"
    },
    {
     "data": {
      "image/png": "[encoded data removed]",
      "text/plain": [
       "<Figure size 360x504 with 1 Axes>"
      ]
     },
     "metadata": {
      "needs_background": "light"
     },
     "output_type": "display_data"
    }
   ],
   "source": [
    "# 위에서 구한 결측치를 .plot.bar를 통해 막대그래프로 표현\n",
    "null_count.plot.barh(figsize=(5,7)) # barh : bar 그래프의 축을 바꿈 / rot옵션 : 글자들이 회전되어 표시됨"
   ]
  },
  {
   "cell_type": "code",
   "execution_count": 13,
   "metadata": {},
   "outputs": [
    {
     "data": {
      "text/html": [
       "<div>\n",
       "<style scoped>\n",
       "    .dataframe tbody tr th:only-of-type {\n",
       "        vertical-align: middle;\n",
       "    }\n",
       "\n",
       "    .dataframe tbody tr th {\n",
       "        vertical-align: top;\n",
       "    }\n",
       "\n",
       "    .dataframe thead th {\n",
       "        text-align: right;\n",
       "    }\n",
       "</style>\n",
       "<table border=\"1\" class=\"dataframe\">\n",
       "  <thead>\n",
       "    <tr style=\"text-align: right;\">\n",
       "      <th></th>\n",
       "      <th>index</th>\n",
       "      <th>0</th>\n",
       "    </tr>\n",
       "  </thead>\n",
       "  <tbody>\n",
       "    <tr>\n",
       "      <th>0</th>\n",
       "      <td>상가업소번호</td>\n",
       "      <td>0</td>\n",
       "    </tr>\n",
       "    <tr>\n",
       "      <th>1</th>\n",
       "      <td>상호명</td>\n",
       "      <td>0</td>\n",
       "    </tr>\n",
       "    <tr>\n",
       "      <th>2</th>\n",
       "      <td>지점명</td>\n",
       "      <td>89989</td>\n",
       "    </tr>\n",
       "    <tr>\n",
       "      <th>3</th>\n",
       "      <td>상권업종대분류코드</td>\n",
       "      <td>0</td>\n",
       "    </tr>\n",
       "    <tr>\n",
       "      <th>4</th>\n",
       "      <td>상권업종대분류명</td>\n",
       "      <td>0</td>\n",
       "    </tr>\n",
       "  </tbody>\n",
       "</table>\n",
       "</div>"
      ],
      "text/plain": [
       "       index      0\n",
       "0     상가업소번호      0\n",
       "1        상호명      0\n",
       "2        지점명  89989\n",
       "3  상권업종대분류코드      0\n",
       "4   상권업종대분류명      0"
      ]
     },
     "execution_count": 13,
     "metadata": {},
     "output_type": "execute_result"
    }
   ],
   "source": [
    "# 위에서 계산한 결측치 수를 reset_index를 통해 데이터 프레임으로 만듬\n",
    "# df_null-count 변수에 결과를 담아서 head로 미리보기 함\n",
    "\n",
    "df_null_count = null_count.reset_index()\n",
    "df_null_count.head()"
   ]
  },
  {
   "cell_type": "markdown",
   "metadata": {},
   "source": [
    "## 컬럼명 변경"
   ]
  },
  {
   "cell_type": "code",
   "execution_count": 14,
   "metadata": {},
   "outputs": [
    {
     "data": {
      "text/html": [
       "<div>\n",
       "<style scoped>\n",
       "    .dataframe tbody tr th:only-of-type {\n",
       "        vertical-align: middle;\n",
       "    }\n",
       "\n",
       "    .dataframe tbody tr th {\n",
       "        vertical-align: top;\n",
       "    }\n",
       "\n",
       "    .dataframe thead th {\n",
       "        text-align: right;\n",
       "    }\n",
       "</style>\n",
       "<table border=\"1\" class=\"dataframe\">\n",
       "  <thead>\n",
       "    <tr style=\"text-align: right;\">\n",
       "      <th></th>\n",
       "      <th>컬럼명</th>\n",
       "      <th>결측치수</th>\n",
       "    </tr>\n",
       "  </thead>\n",
       "  <tbody>\n",
       "    <tr>\n",
       "      <th>0</th>\n",
       "      <td>상가업소번호</td>\n",
       "      <td>0</td>\n",
       "    </tr>\n",
       "    <tr>\n",
       "      <th>1</th>\n",
       "      <td>상호명</td>\n",
       "      <td>0</td>\n",
       "    </tr>\n",
       "    <tr>\n",
       "      <th>2</th>\n",
       "      <td>지점명</td>\n",
       "      <td>89989</td>\n",
       "    </tr>\n",
       "    <tr>\n",
       "      <th>3</th>\n",
       "      <td>상권업종대분류코드</td>\n",
       "      <td>0</td>\n",
       "    </tr>\n",
       "    <tr>\n",
       "      <th>4</th>\n",
       "      <td>상권업종대분류명</td>\n",
       "      <td>0</td>\n",
       "    </tr>\n",
       "  </tbody>\n",
       "</table>\n",
       "</div>"
      ],
      "text/plain": [
       "         컬럼명   결측치수\n",
       "0     상가업소번호      0\n",
       "1        상호명      0\n",
       "2        지점명  89989\n",
       "3  상권업종대분류코드      0\n",
       "4   상권업종대분류명      0"
      ]
     },
     "execution_count": 14,
     "metadata": {},
     "output_type": "execute_result"
    }
   ],
   "source": [
    "# df_null_count 변수에 담겨있는 컬럼의 이름을 \"컬럼명\", \"결측치수\"로 변경\n",
    "df_null_count.columns = [\"컬럼명\",\"결측치수\"]\n",
    "df_null_count.head()"
   ]
  },
  {
   "cell_type": "markdown",
   "metadata": {},
   "source": [
    "## 정렬"
   ]
  },
  {
   "cell_type": "code",
   "execution_count": 15,
   "metadata": {},
   "outputs": [
    {
     "data": {
      "text/html": [
       "<div>\n",
       "<style scoped>\n",
       "    .dataframe tbody tr th:only-of-type {\n",
       "        vertical-align: middle;\n",
       "    }\n",
       "\n",
       "    .dataframe tbody tr th {\n",
       "        vertical-align: top;\n",
       "    }\n",
       "\n",
       "    .dataframe thead th {\n",
       "        text-align: right;\n",
       "    }\n",
       "</style>\n",
       "<table border=\"1\" class=\"dataframe\">\n",
       "  <thead>\n",
       "    <tr style=\"text-align: right;\">\n",
       "      <th></th>\n",
       "      <th>컬럼명</th>\n",
       "      <th>결측치수</th>\n",
       "    </tr>\n",
       "  </thead>\n",
       "  <tbody>\n",
       "    <tr>\n",
       "      <th>2</th>\n",
       "      <td>지점명</td>\n",
       "      <td>89989</td>\n",
       "    </tr>\n",
       "    <tr>\n",
       "      <th>34</th>\n",
       "      <td>동정보</td>\n",
       "      <td>83929</td>\n",
       "    </tr>\n",
       "    <tr>\n",
       "      <th>28</th>\n",
       "      <td>건물부번지</td>\n",
       "      <td>80731</td>\n",
       "    </tr>\n",
       "    <tr>\n",
       "      <th>36</th>\n",
       "      <td>호정보</td>\n",
       "      <td>75784</td>\n",
       "    </tr>\n",
       "    <tr>\n",
       "      <th>35</th>\n",
       "      <td>층정보</td>\n",
       "      <td>47291</td>\n",
       "    </tr>\n",
       "    <tr>\n",
       "      <th>30</th>\n",
       "      <td>건물명</td>\n",
       "      <td>44882</td>\n",
       "    </tr>\n",
       "    <tr>\n",
       "      <th>23</th>\n",
       "      <td>지번부번지</td>\n",
       "      <td>19256</td>\n",
       "    </tr>\n",
       "    <tr>\n",
       "      <th>9</th>\n",
       "      <td>표준산업분류코드</td>\n",
       "      <td>4922</td>\n",
       "    </tr>\n",
       "    <tr>\n",
       "      <th>10</th>\n",
       "      <td>표준산업분류명</td>\n",
       "      <td>4922</td>\n",
       "    </tr>\n",
       "    <tr>\n",
       "      <th>11</th>\n",
       "      <td>시도코드</td>\n",
       "      <td>379</td>\n",
       "    </tr>\n",
       "  </tbody>\n",
       "</table>\n",
       "</div>"
      ],
      "text/plain": [
       "         컬럼명   결측치수\n",
       "2        지점명  89989\n",
       "34       동정보  83929\n",
       "28     건물부번지  80731\n",
       "36       호정보  75784\n",
       "35       층정보  47291\n",
       "30       건물명  44882\n",
       "23     지번부번지  19256\n",
       "9   표준산업분류코드   4922\n",
       "10   표준산업분류명   4922\n",
       "11      시도코드    379"
      ]
     },
     "execution_count": 15,
     "metadata": {},
     "output_type": "execute_result"
    }
   ],
   "source": [
    "# df_null_count 데이터프레임에 있는 결측치수 컬럼을 sort_value를 통해 정렬\n",
    "# 결측치가 많은 순으로 상위 10개만 출력\n",
    "df_null_count_top = df_null_count.sort_values(by=\"결측치수\",ascending = False).head(10)\n",
    "df_null_count_top"
   ]
  },
  {
   "cell_type": "markdown",
   "metadata": {},
   "source": [
    "## 특정 컬럼만 불러오기"
   ]
  },
  {
   "cell_type": "code",
   "execution_count": 16,
   "metadata": {},
   "outputs": [
    {
     "data": {
      "text/plain": [
       "0    NaN\n",
       "1    NaN\n",
       "2    NaN\n",
       "3    NaN\n",
       "4    수지점\n",
       "Name: 지점명, dtype: object"
      ]
     },
     "execution_count": 16,
     "metadata": {},
     "output_type": "execute_result"
    }
   ],
   "source": [
    "# 지점명 컬럼을 불러옴\n",
    "# NaN = Not a Number (결측치를 의미)\n",
    "df[\"지점명\"].head()"
   ]
  },
  {
   "cell_type": "code",
   "execution_count": 17,
   "metadata": {},
   "outputs": [
    {
     "data": {
      "text/plain": [
       "['지점명',\n",
       " '동정보',\n",
       " '건물부번지',\n",
       " '호정보',\n",
       " '층정보',\n",
       " '건물명',\n",
       " '지번부번지',\n",
       " '표준산업분류코드',\n",
       " '표준산업분류명',\n",
       " '시도코드']"
      ]
     },
     "execution_count": 17,
     "metadata": {},
     "output_type": "execute_result"
    }
   ],
   "source": [
    "# \"컬럼명\"이라는 컬럼의 값만 가져와서 drop_columns 라는 변수에 담음\n",
    "drop_columns = df_null_count_top[\"컬럼명\"].tolist()\n",
    "drop_columns"
   ]
  },
  {
   "cell_type": "code",
   "execution_count": 18,
   "metadata": {
    "scrolled": true
   },
   "outputs": [
    {
     "data": {
      "text/html": [
       "<div>\n",
       "<style scoped>\n",
       "    .dataframe tbody tr th:only-of-type {\n",
       "        vertical-align: middle;\n",
       "    }\n",
       "\n",
       "    .dataframe tbody tr th {\n",
       "        vertical-align: top;\n",
       "    }\n",
       "\n",
       "    .dataframe thead th {\n",
       "        text-align: right;\n",
       "    }\n",
       "</style>\n",
       "<table border=\"1\" class=\"dataframe\">\n",
       "  <thead>\n",
       "    <tr style=\"text-align: right;\">\n",
       "      <th></th>\n",
       "      <th>지점명</th>\n",
       "      <th>동정보</th>\n",
       "      <th>건물부번지</th>\n",
       "      <th>호정보</th>\n",
       "      <th>층정보</th>\n",
       "      <th>건물명</th>\n",
       "      <th>지번부번지</th>\n",
       "      <th>표준산업분류코드</th>\n",
       "      <th>표준산업분류명</th>\n",
       "      <th>시도코드</th>\n",
       "    </tr>\n",
       "  </thead>\n",
       "  <tbody>\n",
       "    <tr>\n",
       "      <th>0</th>\n",
       "      <td>NaN</td>\n",
       "      <td>NaN</td>\n",
       "      <td>NaN</td>\n",
       "      <td>NaN</td>\n",
       "      <td>NaN</td>\n",
       "      <td>산호한양아파트</td>\n",
       "      <td>NaN</td>\n",
       "      <td>Q86201</td>\n",
       "      <td>일반 의원</td>\n",
       "      <td>41.0</td>\n",
       "    </tr>\n",
       "    <tr>\n",
       "      <th>1</th>\n",
       "      <td>NaN</td>\n",
       "      <td>NaN</td>\n",
       "      <td>NaN</td>\n",
       "      <td>NaN</td>\n",
       "      <td>4</td>\n",
       "      <td>NaN</td>\n",
       "      <td>14.0</td>\n",
       "      <td>Q86201</td>\n",
       "      <td>일반 의원</td>\n",
       "      <td>11.0</td>\n",
       "    </tr>\n",
       "    <tr>\n",
       "      <th>2</th>\n",
       "      <td>NaN</td>\n",
       "      <td>NaN</td>\n",
       "      <td>NaN</td>\n",
       "      <td>NaN</td>\n",
       "      <td>NaN</td>\n",
       "      <td>한라프라자</td>\n",
       "      <td>1.0</td>\n",
       "      <td>Q86201</td>\n",
       "      <td>일반 의원</td>\n",
       "      <td>41.0</td>\n",
       "    </tr>\n",
       "    <tr>\n",
       "      <th>3</th>\n",
       "      <td>NaN</td>\n",
       "      <td>NaN</td>\n",
       "      <td>NaN</td>\n",
       "      <td>NaN</td>\n",
       "      <td>5</td>\n",
       "      <td>NaN</td>\n",
       "      <td>1.0</td>\n",
       "      <td>NaN</td>\n",
       "      <td>NaN</td>\n",
       "      <td>26.0</td>\n",
       "    </tr>\n",
       "    <tr>\n",
       "      <th>4</th>\n",
       "      <td>수지점</td>\n",
       "      <td>NaN</td>\n",
       "      <td>NaN</td>\n",
       "      <td>NaN</td>\n",
       "      <td>1</td>\n",
       "      <td>NaN</td>\n",
       "      <td>2.0</td>\n",
       "      <td>G47811</td>\n",
       "      <td>의약품 및 의료용품 소매업</td>\n",
       "      <td>41.0</td>\n",
       "    </tr>\n",
       "  </tbody>\n",
       "</table>\n",
       "</div>"
      ],
      "text/plain": [
       "   지점명  동정보  건물부번지  호정보  층정보      건물명  지번부번지 표준산업분류코드         표준산업분류명  시도코드\n",
       "0  NaN  NaN    NaN  NaN  NaN  산호한양아파트    NaN   Q86201           일반 의원  41.0\n",
       "1  NaN  NaN    NaN  NaN    4      NaN   14.0   Q86201           일반 의원  11.0\n",
       "2  NaN  NaN    NaN  NaN  NaN    한라프라자    1.0   Q86201           일반 의원  41.0\n",
       "3  NaN  NaN    NaN  NaN    5      NaN    1.0      NaN             NaN  26.0\n",
       "4  수지점  NaN    NaN  NaN    1      NaN    2.0   G47811  의약품 및 의료용품 소매업  41.0"
      ]
     },
     "execution_count": 18,
     "metadata": {},
     "output_type": "execute_result"
    }
   ],
   "source": [
    "# drop_columns 변수로 해당 컬럼 정보만 데이터 프레임에서 가져옴\n",
    "df[drop_columns].head()"
   ]
  },
  {
   "cell_type": "markdown",
   "metadata": {},
   "source": [
    "## 제거하기"
   ]
  },
  {
   "cell_type": "code",
   "execution_count": 19,
   "metadata": {},
   "outputs": [
    {
     "name": "stdout",
     "output_type": "stream",
     "text": [
      "(91335, 39)\n",
      "(91335, 29)\n"
     ]
    }
   ],
   "source": [
    "print(df.shape) # 제거하기 전\n",
    "df = df.drop(drop_columns,axis=1) \n",
    "# axis(축) 값은 기본적으로 0(열을 기준으로 하는 경우 0 / 컬럼을 기준으로 정렬하는 경우 1로..)\n",
    "# df 변수에 다시 담아야 drop한 결과가 적용이 됨\n",
    "print(df.shape) # 제거하고 난 뒤"
   ]
  },
  {
   "cell_type": "code",
   "execution_count": 20,
   "metadata": {},
   "outputs": [
    {
     "name": "stdout",
     "output_type": "stream",
     "text": [
      "<class 'pandas.core.frame.DataFrame'>\n",
      "RangeIndex: 91335 entries, 0 to 91334\n",
      "Data columns (total 29 columns):\n",
      " #   Column     Non-Null Count  Dtype  \n",
      "---  ------     --------------  -----  \n",
      " 0   상가업소번호     91335 non-null  int64  \n",
      " 1   상호명        91335 non-null  object \n",
      " 2   상권업종대분류코드  91335 non-null  object \n",
      " 3   상권업종대분류명   91335 non-null  object \n",
      " 4   상권업종중분류코드  91335 non-null  object \n",
      " 5   상권업종중분류명   91335 non-null  object \n",
      " 6   상권업종소분류코드  91335 non-null  object \n",
      " 7   상권업종소분류명   91335 non-null  object \n",
      " 8   시도명        90956 non-null  object \n",
      " 9   시군구코드      90956 non-null  float64\n",
      " 10  시군구명       90956 non-null  object \n",
      " 11  행정동코드      91335 non-null  int64  \n",
      " 12  행정동명       90956 non-null  object \n",
      " 13  법정동코드      91280 non-null  float64\n",
      " 14  법정동명       91280 non-null  object \n",
      " 15  지번코드       91335 non-null  int64  \n",
      " 16  대지구분코드     91335 non-null  int64  \n",
      " 17  대지구분명      91335 non-null  object \n",
      " 18  지번본번지      91335 non-null  int64  \n",
      " 19  지번주소       91335 non-null  object \n",
      " 20  도로명코드      91335 non-null  int64  \n",
      " 21  도로명        91335 non-null  object \n",
      " 22  건물본번지      91335 non-null  int64  \n",
      " 23  건물관리번호     91335 non-null  object \n",
      " 24  도로명주소      91335 non-null  object \n",
      " 25  구우편번호      91323 non-null  float64\n",
      " 26  신우편번호      91333 non-null  float64\n",
      " 27  경도         91335 non-null  float64\n",
      " 28  위도         91335 non-null  float64\n",
      "dtypes: float64(6), int64(7), object(16)\n",
      "memory usage: 20.2+ MB\n"
     ]
    }
   ],
   "source": [
    "# 제거 결과를 info로 확인\n",
    "df.info()"
   ]
  },
  {
   "cell_type": "markdown",
   "metadata": {},
   "source": [
    "## 기초 통계값 보기"
   ]
  },
  {
   "cell_type": "markdown",
   "metadata": {},
   "source": [
    "### 기초 통계 수치"
   ]
  },
  {
   "cell_type": "code",
   "execution_count": 21,
   "metadata": {},
   "outputs": [
    {
     "data": {
      "text/plain": [
       "36.62471119236673"
      ]
     },
     "execution_count": 21,
     "metadata": {},
     "output_type": "execute_result"
    }
   ],
   "source": [
    "# 평균값\n",
    "df[\"위도\"].mean()"
   ]
  },
  {
   "cell_type": "code",
   "execution_count": 22,
   "metadata": {},
   "outputs": [
    {
     "data": {
      "text/plain": [
       "37.23465231770329"
      ]
     },
     "execution_count": 22,
     "metadata": {},
     "output_type": "execute_result"
    }
   ],
   "source": [
    "# 중앙값\n",
    "df[\"위도\"].median()"
   ]
  },
  {
   "cell_type": "code",
   "execution_count": 23,
   "metadata": {},
   "outputs": [
    {
     "data": {
      "text/plain": [
       "38.499658570559795"
      ]
     },
     "execution_count": 23,
     "metadata": {},
     "output_type": "execute_result"
    }
   ],
   "source": [
    "# 최대값\n",
    "df[\"위도\"].max()"
   ]
  },
  {
   "cell_type": "code",
   "execution_count": 24,
   "metadata": {},
   "outputs": [
    {
     "data": {
      "text/plain": [
       "33.2192896688307"
      ]
     },
     "execution_count": 24,
     "metadata": {},
     "output_type": "execute_result"
    }
   ],
   "source": [
    "# 최소값\n",
    "df[\"위도\"].min()"
   ]
  },
  {
   "cell_type": "code",
   "execution_count": 25,
   "metadata": {},
   "outputs": [
    {
     "data": {
      "text/plain": [
       "91335"
      ]
     },
     "execution_count": 25,
     "metadata": {},
     "output_type": "execute_result"
    }
   ],
   "source": [
    "# 갯수\n",
    "df[\"위도\"].count()"
   ]
  },
  {
   "cell_type": "markdown",
   "metadata": {},
   "source": [
    "### 기초 통계값 요약 - describe\n",
    " * describe를 사용하면 데이터를 요약해 볼 수 있음\n",
    " * 기본적으로 수치형 데이터를 요약해서 보여줌\n",
    " * 데이터의 갯수, 평균, 표준편차, 최솟값, 1사분위수(25%), 2사분위수(50%), 3사분위수(75%), 최대값을 볼 수 있음\n"
   ]
  },
  {
   "cell_type": "code",
   "execution_count": 26,
   "metadata": {},
   "outputs": [
    {
     "data": {
      "text/plain": [
       "count    91335.000000\n",
       "mean        36.624711\n",
       "std          1.041361\n",
       "min         33.219290\n",
       "25%         35.811830\n",
       "50%         37.234652\n",
       "75%         37.507463\n",
       "max         38.499659\n",
       "Name: 위도, dtype: float64"
      ]
     },
     "execution_count": 26,
     "metadata": {},
     "output_type": "execute_result"
    }
   ],
   "source": [
    "# 위도를 describe로 요약\n",
    "df[\"위도\"].describe()"
   ]
  },
  {
   "cell_type": "code",
   "execution_count": 27,
   "metadata": {},
   "outputs": [
    {
     "data": {
      "text/html": [
       "<div>\n",
       "<style scoped>\n",
       "    .dataframe tbody tr th:only-of-type {\n",
       "        vertical-align: middle;\n",
       "    }\n",
       "\n",
       "    .dataframe tbody tr th {\n",
       "        vertical-align: top;\n",
       "    }\n",
       "\n",
       "    .dataframe thead th {\n",
       "        text-align: right;\n",
       "    }\n",
       "</style>\n",
       "<table border=\"1\" class=\"dataframe\">\n",
       "  <thead>\n",
       "    <tr style=\"text-align: right;\">\n",
       "      <th></th>\n",
       "      <th>위도</th>\n",
       "      <th>경도</th>\n",
       "    </tr>\n",
       "  </thead>\n",
       "  <tbody>\n",
       "    <tr>\n",
       "      <th>count</th>\n",
       "      <td>91335.000000</td>\n",
       "      <td>91335.000000</td>\n",
       "    </tr>\n",
       "    <tr>\n",
       "      <th>mean</th>\n",
       "      <td>36.624711</td>\n",
       "      <td>127.487524</td>\n",
       "    </tr>\n",
       "    <tr>\n",
       "      <th>std</th>\n",
       "      <td>1.041361</td>\n",
       "      <td>0.842877</td>\n",
       "    </tr>\n",
       "    <tr>\n",
       "      <th>min</th>\n",
       "      <td>33.219290</td>\n",
       "      <td>124.717632</td>\n",
       "    </tr>\n",
       "    <tr>\n",
       "      <th>25%</th>\n",
       "      <td>35.811830</td>\n",
       "      <td>126.914297</td>\n",
       "    </tr>\n",
       "    <tr>\n",
       "      <th>50%</th>\n",
       "      <td>37.234652</td>\n",
       "      <td>127.084550</td>\n",
       "    </tr>\n",
       "    <tr>\n",
       "      <th>75%</th>\n",
       "      <td>37.507463</td>\n",
       "      <td>128.108919</td>\n",
       "    </tr>\n",
       "    <tr>\n",
       "      <th>max</th>\n",
       "      <td>38.499659</td>\n",
       "      <td>130.909912</td>\n",
       "    </tr>\n",
       "  </tbody>\n",
       "</table>\n",
       "</div>"
      ],
      "text/plain": [
       "                 위도            경도\n",
       "count  91335.000000  91335.000000\n",
       "mean      36.624711    127.487524\n",
       "std        1.041361      0.842877\n",
       "min       33.219290    124.717632\n",
       "25%       35.811830    126.914297\n",
       "50%       37.234652    127.084550\n",
       "75%       37.507463    128.108919\n",
       "max       38.499659    130.909912"
      ]
     },
     "execution_count": 27,
     "metadata": {},
     "output_type": "execute_result"
    }
   ],
   "source": [
    "# 2개의 컬럼을 describe로 요약\n",
    "df[[\"위도\",\"경도\"]].describe()"
   ]
  },
  {
   "cell_type": "code",
   "execution_count": 28,
   "metadata": {},
   "outputs": [
    {
     "data": {
      "text/html": [
       "<div>\n",
       "<style scoped>\n",
       "    .dataframe tbody tr th:only-of-type {\n",
       "        vertical-align: middle;\n",
       "    }\n",
       "\n",
       "    .dataframe tbody tr th {\n",
       "        vertical-align: top;\n",
       "    }\n",
       "\n",
       "    .dataframe thead th {\n",
       "        text-align: right;\n",
       "    }\n",
       "</style>\n",
       "<table border=\"1\" class=\"dataframe\">\n",
       "  <thead>\n",
       "    <tr style=\"text-align: right;\">\n",
       "      <th></th>\n",
       "      <th>상호명</th>\n",
       "      <th>상권업종대분류코드</th>\n",
       "      <th>상권업종대분류명</th>\n",
       "      <th>상권업종중분류코드</th>\n",
       "      <th>상권업종중분류명</th>\n",
       "      <th>상권업종소분류코드</th>\n",
       "      <th>상권업종소분류명</th>\n",
       "      <th>시도명</th>\n",
       "      <th>시군구명</th>\n",
       "      <th>행정동명</th>\n",
       "      <th>법정동명</th>\n",
       "      <th>대지구분명</th>\n",
       "      <th>지번주소</th>\n",
       "      <th>도로명</th>\n",
       "      <th>건물관리번호</th>\n",
       "      <th>도로명주소</th>\n",
       "    </tr>\n",
       "  </thead>\n",
       "  <tbody>\n",
       "    <tr>\n",
       "      <th>count</th>\n",
       "      <td>91335</td>\n",
       "      <td>91335</td>\n",
       "      <td>91335</td>\n",
       "      <td>91335</td>\n",
       "      <td>91335</td>\n",
       "      <td>91335</td>\n",
       "      <td>91335</td>\n",
       "      <td>90956</td>\n",
       "      <td>90956</td>\n",
       "      <td>90956</td>\n",
       "      <td>91280</td>\n",
       "      <td>91335</td>\n",
       "      <td>91335</td>\n",
       "      <td>91335</td>\n",
       "      <td>91335</td>\n",
       "      <td>91335</td>\n",
       "    </tr>\n",
       "    <tr>\n",
       "      <th>unique</th>\n",
       "      <td>56910</td>\n",
       "      <td>1</td>\n",
       "      <td>1</td>\n",
       "      <td>5</td>\n",
       "      <td>5</td>\n",
       "      <td>34</td>\n",
       "      <td>34</td>\n",
       "      <td>17</td>\n",
       "      <td>228</td>\n",
       "      <td>2791</td>\n",
       "      <td>2822</td>\n",
       "      <td>2</td>\n",
       "      <td>53118</td>\n",
       "      <td>16610</td>\n",
       "      <td>54142</td>\n",
       "      <td>54031</td>\n",
       "    </tr>\n",
       "    <tr>\n",
       "      <th>top</th>\n",
       "      <td>리원</td>\n",
       "      <td>S</td>\n",
       "      <td>의료</td>\n",
       "      <td>S01</td>\n",
       "      <td>병원</td>\n",
       "      <td>S02A01</td>\n",
       "      <td>약국</td>\n",
       "      <td>경기도</td>\n",
       "      <td>서구</td>\n",
       "      <td>중앙동</td>\n",
       "      <td>중동</td>\n",
       "      <td>대지</td>\n",
       "      <td>서울특별시 동대문구 제기동 965-1</td>\n",
       "      <td>서울특별시 강남구 강남대로</td>\n",
       "      <td>1123010300109650001031604</td>\n",
       "      <td>서울특별시 동대문구 약령중앙로8길 10</td>\n",
       "    </tr>\n",
       "    <tr>\n",
       "      <th>freq</th>\n",
       "      <td>152</td>\n",
       "      <td>91335</td>\n",
       "      <td>91335</td>\n",
       "      <td>60774</td>\n",
       "      <td>60774</td>\n",
       "      <td>18964</td>\n",
       "      <td>18964</td>\n",
       "      <td>21374</td>\n",
       "      <td>3165</td>\n",
       "      <td>1856</td>\n",
       "      <td>874</td>\n",
       "      <td>91213</td>\n",
       "      <td>198</td>\n",
       "      <td>326</td>\n",
       "      <td>198</td>\n",
       "      <td>198</td>\n",
       "    </tr>\n",
       "  </tbody>\n",
       "</table>\n",
       "</div>"
      ],
      "text/plain": [
       "          상호명 상권업종대분류코드 상권업종대분류명 상권업종중분류코드 상권업종중분류명 상권업종소분류코드 상권업종소분류명    시도명  \\\n",
       "count   91335     91335    91335     91335    91335     91335    91335  90956   \n",
       "unique  56910         1        1         5        5        34       34     17   \n",
       "top        리원         S       의료       S01       병원    S02A01       약국    경기도   \n",
       "freq      152     91335    91335     60774    60774     18964    18964  21374   \n",
       "\n",
       "         시군구명   행정동명   법정동명  대지구분명                  지번주소             도로명  \\\n",
       "count   90956  90956  91280  91335                 91335           91335   \n",
       "unique    228   2791   2822      2                 53118           16610   \n",
       "top        서구    중앙동     중동     대지  서울특별시 동대문구 제기동 965-1  서울특별시 강남구 강남대로   \n",
       "freq     3165   1856    874  91213                   198             326   \n",
       "\n",
       "                           건물관리번호                  도로명주소  \n",
       "count                       91335                  91335  \n",
       "unique                      54142                  54031  \n",
       "top     1123010300109650001031604  서울특별시 동대문구 약령중앙로8길 10  \n",
       "freq                          198                    198  "
      ]
     },
     "execution_count": 28,
     "metadata": {},
     "output_type": "execute_result"
    }
   ],
   "source": [
    "# describe로 문자열 데이터 타입을 요약\n",
    "df.describe(include=\"object\")"
   ]
  },
  {
   "cell_type": "markdown",
   "metadata": {},
   "source": [
    "### 중복제거한 값 보기\n",
    " * unique로 중복을 제거한 값을 보고 nunique로 갯수를 세어보기"
   ]
  },
  {
   "cell_type": "code",
   "execution_count": 29,
   "metadata": {},
   "outputs": [
    {
     "data": {
      "text/plain": [
       "array(['의료'], dtype=object)"
      ]
     },
     "execution_count": 29,
     "metadata": {},
     "output_type": "execute_result"
    }
   ],
   "source": [
    "# \"상권업종대분류명\"\n",
    "df[\"상권업종대분류명\"].unique()"
   ]
  },
  {
   "cell_type": "code",
   "execution_count": 30,
   "metadata": {},
   "outputs": [
    {
     "data": {
      "text/plain": [
       "1"
      ]
     },
     "execution_count": 30,
     "metadata": {},
     "output_type": "execute_result"
    }
   ],
   "source": [
    "df[\"상권업종대분류명\"].nunique()"
   ]
  },
  {
   "cell_type": "code",
   "execution_count": 31,
   "metadata": {},
   "outputs": [
    {
     "data": {
      "text/plain": [
       "array(['병원', '약국/한약방', '수의업', '유사의료업', '의료관련서비스업'], dtype=object)"
      ]
     },
     "execution_count": 31,
     "metadata": {},
     "output_type": "execute_result"
    }
   ],
   "source": [
    "# \"상권업종중분류명\"\n",
    "df[\"상권업종중분류명\"].unique()"
   ]
  },
  {
   "cell_type": "code",
   "execution_count": 32,
   "metadata": {},
   "outputs": [
    {
     "data": {
      "text/plain": [
       "5"
      ]
     },
     "execution_count": 32,
     "metadata": {},
     "output_type": "execute_result"
    }
   ],
   "source": [
    "df[\"상권업종중분류명\"].nunique()"
   ]
  },
  {
   "cell_type": "code",
   "execution_count": 33,
   "metadata": {},
   "outputs": [
    {
     "data": {
      "text/plain": [
       "array(['산부인과', '내과/외과', '신경외과', '기타병원', '약국', '동물병원', '한약방', '탕제원',\n",
       "       '정형/성형외과', '소아과', '이비인후과의원', '노인/치매병원', '언어치료', '수의업-종합', '한의원',\n",
       "       '치과의원', '침구원', '일반병원', '안과의원', '조산원', '한방병원', '종합병원', '유사의료업기타',\n",
       "       '응급구조대', '혈액원', '치과병원', '척추교정치료', '피부과', '비뇨기과', '치과기공소', '산후조리원',\n",
       "       '접골원', '수의업-기타', '제대혈'], dtype=object)"
      ]
     },
     "execution_count": 33,
     "metadata": {},
     "output_type": "execute_result"
    }
   ],
   "source": [
    "# \"상권업종소분류명\"\n",
    "df[\"상권업종소분류명\"].unique()"
   ]
  },
  {
   "cell_type": "code",
   "execution_count": 34,
   "metadata": {},
   "outputs": [
    {
     "data": {
      "text/plain": [
       "34"
      ]
     },
     "execution_count": 34,
     "metadata": {},
     "output_type": "execute_result"
    }
   ],
   "source": [
    "df[\"상권업종소분류명\"].nunique()"
   ]
  },
  {
   "cell_type": "code",
   "execution_count": 35,
   "metadata": {},
   "outputs": [
    {
     "data": {
      "text/plain": [
       "34"
      ]
     },
     "execution_count": 35,
     "metadata": {},
     "output_type": "execute_result"
    }
   ],
   "source": [
    "# nunique 대신 len을 사용할 수도 있음\n",
    "len(df[\"상권업종소분류명\"].unique())"
   ]
  },
  {
   "cell_type": "markdown",
   "metadata": {},
   "source": [
    "### 그룹화된 요약값 보기 - value_counts\n",
    "* value_counts를 사용하면 카테고리 형태의 데이터 갯수를 세어볼 수 있음"
   ]
  },
  {
   "cell_type": "code",
   "execution_count": 36,
   "metadata": {},
   "outputs": [
    {
     "data": {
      "text/plain": [
       "0      경기도\n",
       "1    서울특별시\n",
       "2      경기도\n",
       "3    부산광역시\n",
       "4      경기도\n",
       "Name: 시도명, dtype: object"
      ]
     },
     "execution_count": 36,
     "metadata": {},
     "output_type": "execute_result"
    }
   ],
   "source": [
    "# value_counts를 사용하면 카테고리 형태의 데이터 갯수를 세어볼 수 있음\n",
    "# 시도코드를 세어봄\n",
    "df[\"시도명\"].head()\n"
   ]
  },
  {
   "cell_type": "code",
   "execution_count": 37,
   "metadata": {},
   "outputs": [
    {
     "data": {
      "text/plain": [
       "경기도        21374\n",
       "서울특별시      18943\n",
       "부산광역시       6473\n",
       "경상남도        4973\n",
       "인천광역시       4722\n",
       "대구광역시       4597\n",
       "경상북도        4141\n",
       "전라북도        3894\n",
       "충청남도        3578\n",
       "전라남도        3224\n",
       "광주광역시       3214\n",
       "대전광역시       3067\n",
       "충청북도        2677\n",
       "강원도         2634\n",
       "울산광역시       1997\n",
       "제주특별자치도     1095\n",
       "세종특별자치시      353\n",
       "Name: 시도명, dtype: int64"
      ]
     },
     "execution_count": 37,
     "metadata": {},
     "output_type": "execute_result"
    }
   ],
   "source": [
    "# 시도명을 세어봄\n",
    "city = df[\"시도명\"].value_counts()\n",
    "city"
   ]
  },
  {
   "cell_type": "code",
   "execution_count": 38,
   "metadata": {},
   "outputs": [
    {
     "data": {
      "text/plain": [
       "경기도        0.234993\n",
       "서울특별시      0.208266\n",
       "부산광역시      0.071166\n",
       "경상남도       0.054675\n",
       "인천광역시      0.051915\n",
       "대구광역시      0.050541\n",
       "경상북도       0.045528\n",
       "전라북도       0.042812\n",
       "충청남도       0.039338\n",
       "전라남도       0.035446\n",
       "광주광역시      0.035336\n",
       "대전광역시      0.033720\n",
       "충청북도       0.029432\n",
       "강원도        0.028959\n",
       "울산광역시      0.021956\n",
       "제주특별자치도    0.012039\n",
       "세종특별자치시    0.003881\n",
       "Name: 시도명, dtype: float64"
      ]
     },
     "execution_count": 38,
     "metadata": {},
     "output_type": "execute_result"
    }
   ],
   "source": [
    "# normalize=True 옵션을 사용하면 비율을 구할 수 있음\n",
    "city_normalize = df[\"시도명\"].value_counts(normalize=True)\n",
    "city_normalize"
   ]
  },
  {
   "cell_type": "code",
   "execution_count": 39,
   "metadata": {},
   "outputs": [
    {
     "data": {
      "text/plain": [
       "<AxesSubplot:>"
      ]
     },
     "execution_count": 39,
     "metadata": {},
     "output_type": "execute_result"
    },
    {
     "data": {
      "image/png": "[encoded data removed]",
      "text/plain": [
       "<Figure size 432x288 with 1 Axes>"
      ]
     },
     "metadata": {
      "needs_background": "light"
     },
     "output_type": "display_data"
    }
   ],
   "source": [
    "# pandas에는 plot기능을 내장하고 있음\n",
    "# 위에서 분석한 시도명 수를 막대그래프로 표현해보자\n",
    "city.plot.barh()"
   ]
  },
  {
   "cell_type": "code",
   "execution_count": 40,
   "metadata": {},
   "outputs": [
    {
     "name": "stderr",
     "output_type": "stream",
     "text": [
      "C:\\Users\\kim\\anaconda3\\lib\\site-packages\\pandas\\plotting\\_matplotlib\\core.py:1547: MatplotlibDeprecationWarning: normalize=None does not normalize if the sum is less than 1 but this behavior is deprecated since 3.3 until two minor releases later. After the deprecation period the default value will be normalize=True. To prevent normalization pass normalize=False \n",
      "  results = ax.pie(y, labels=blabels, **kwds)\n"
     ]
    },
    {
     "data": {
      "text/plain": [
       "<AxesSubplot:ylabel='시도명'>"
      ]
     },
     "execution_count": 40,
     "metadata": {},
     "output_type": "execute_result"
    },
    {
     "data": {
      "image/png": "[encoded data removed]",
      "text/plain": [
       "<Figure size 504x504 with 1 Axes>"
      ]
     },
     "metadata": {},
     "output_type": "display_data"
    }
   ],
   "source": [
    "# 판다스의 plot.pie()를 사용해서 파이그래프를 그려보자\n",
    "city_normalize.plot.pie(figsize = (7,7))"
   ]
  },
  {
   "cell_type": "code",
   "execution_count": 41,
   "metadata": {},
   "outputs": [
    {
     "data": {
      "text/plain": [
       "<AxesSubplot:xlabel='count', ylabel='시도명'>"
      ]
     },
     "execution_count": 41,
     "metadata": {},
     "output_type": "execute_result"
    },
    {
     "data": {
      "image/png": "[encoded data removed]",
      "text/plain": [
       "<Figure size 432x288 with 1 Axes>"
      ]
     },
     "metadata": {
      "needs_background": "light"
     },
     "output_type": "display_data"
    }
   ],
   "source": [
    "# seaborn의 countplot으로 그려보자 / \n",
    "# seaborn은 대체적으로 x,y,data를 넣어야 하지만, countplot은 x,y 하나만 넣어도 됨\n",
    "# seaborn : 그래프 내부에서 고급 통계기능을 제공 but 데이터가 커지면 속도가 느림 (아래는 자동으로 count_value 기능 수행)\n",
    "# <AxesSubplot:xlabel='count', ylabel='시도명'> -> 이런거는 아래 수식을 변수에 담아서 출력하면 없어짐\n",
    "# 예) c = sns.countplot(data=df,y=\"시도명\")\n",
    "sns.countplot(data=df,y=\"시도명\")"
   ]
  },
  {
   "cell_type": "code",
   "execution_count": 42,
   "metadata": {},
   "outputs": [
    {
     "data": {
      "text/plain": [
       "의료    91335\n",
       "Name: 상권업종대분류명, dtype: int64"
      ]
     },
     "execution_count": 42,
     "metadata": {},
     "output_type": "execute_result"
    }
   ],
   "source": [
    "# \"상권업종대분류명\"으로 갯수를 세어보자\n",
    "# value counts를 하게되면 결측치는 제거되고 센다\n",
    "df[\"상권업종대분류명\"].value_counts()"
   ]
  },
  {
   "cell_type": "code",
   "execution_count": 43,
   "metadata": {},
   "outputs": [
    {
     "data": {
      "text/plain": [
       "병원          60774\n",
       "약국/한약방      20923\n",
       "수의업          5323\n",
       "유사의료업        3774\n",
       "의료관련서비스업      541\n",
       "Name: 상권업종중분류명, dtype: int64"
      ]
     },
     "execution_count": 43,
     "metadata": {},
     "output_type": "execute_result"
    }
   ],
   "source": [
    "# \"상권업종중분류명\"으로 갯수를 세어보자\n",
    "c = df[\"상권업종중분류명\"].value_counts()\n",
    "c"
   ]
  },
  {
   "cell_type": "code",
   "execution_count": 44,
   "metadata": {},
   "outputs": [
    {
     "data": {
      "text/plain": [
       "병원          0.665397\n",
       "약국/한약방      0.229080\n",
       "수의업         0.058280\n",
       "유사의료업       0.041320\n",
       "의료관련서비스업    0.005923\n",
       "Name: 상권업종중분류명, dtype: float64"
      ]
     },
     "execution_count": 44,
     "metadata": {},
     "output_type": "execute_result"
    }
   ],
   "source": [
    "# normalize=True를 사용해 비율을 구해보자 (전체대비 비율을 보여줌)\n",
    "n = df[\"상권업종중분류명\"].value_counts(normalize=True)\n",
    "n"
   ]
  },
  {
   "cell_type": "code",
   "execution_count": 45,
   "metadata": {},
   "outputs": [
    {
     "data": {
      "text/plain": [
       "<AxesSubplot:>"
      ]
     },
     "execution_count": 45,
     "metadata": {},
     "output_type": "execute_result"
    },
    {
     "data": {
      "image/png": "[encoded data removed]",
      "text/plain": [
       "<Figure size 432x288 with 1 Axes>"
      ]
     },
     "metadata": {
      "needs_background": "light"
     },
     "output_type": "display_data"
    }
   ],
   "source": [
    "# 판다스의 plot.bar()를 사용해서 막대그래프를 그려보자\n",
    "c.plot.bar(rot=0) # rot= 회전시킬 값"
   ]
  },
  {
   "cell_type": "code",
   "execution_count": 46,
   "metadata": {},
   "outputs": [
    {
     "data": {
      "text/plain": [
       "<AxesSubplot:ylabel='상권업종중분류명'>"
      ]
     },
     "execution_count": 46,
     "metadata": {},
     "output_type": "execute_result"
    },
    {
     "data": {
      "image/png": "[encoded data removed]",
      "text/plain": [
       "<Figure size 432x288 with 1 Axes>"
      ]
     },
     "metadata": {},
     "output_type": "display_data"
    }
   ],
   "source": [
    "# 판다스의 plot.pie()를 사용해서 파이그래프를 그려보자\n",
    "n.plot.pie()"
   ]
  },
  {
   "cell_type": "code",
   "execution_count": 47,
   "metadata": {},
   "outputs": [
    {
     "data": {
      "text/plain": [
       "약국         18964\n",
       "치과의원       13731\n",
       "한의원        13211\n",
       "내과/외과      11374\n",
       "기타병원        4922\n",
       "일반병원        3385\n",
       "동물병원        3098\n",
       "정형/성형외과     2562\n",
       "소아과         2472\n",
       "수의업-종합      2216\n",
       "치과기공소       1724\n",
       "이비인후과의원     1486\n",
       "한약방         1442\n",
       "피부과         1273\n",
       "산부인과        1116\n",
       "노인/치매병원     1055\n",
       "안과의원        1042\n",
       "비뇨기과         809\n",
       "종합병원         762\n",
       "치과병원         756\n",
       "언어치료         664\n",
       "유사의료업기타      629\n",
       "탕제원          517\n",
       "산후조리원        511\n",
       "신경외과         421\n",
       "한방병원         397\n",
       "척추교정치료       338\n",
       "침구원          154\n",
       "혈액원          130\n",
       "응급구조대        125\n",
       "조산원           30\n",
       "수의업-기타         9\n",
       "접골원            9\n",
       "제대혈            1\n",
       "Name: 상권업종소분류명, dtype: int64"
      ]
     },
     "execution_count": 47,
     "metadata": {},
     "output_type": "execute_result"
    }
   ],
   "source": [
    "# \"상권업종소분류명\"에 대한 그룹화 된 값을 카운트 하자\n",
    "c = df[\"상권업종소분류명\"].value_counts()\n",
    "c"
   ]
  },
  {
   "cell_type": "code",
   "execution_count": 48,
   "metadata": {},
   "outputs": [
    {
     "data": {
      "text/plain": [
       "<AxesSubplot:>"
      ]
     },
     "execution_count": 48,
     "metadata": {},
     "output_type": "execute_result"
    },
    {
     "data": {
      "image/png": "[encoded data removed]",
      "text/plain": [
       "<Figure size 504x576 with 1 Axes>"
      ]
     },
     "metadata": {
      "needs_background": "light"
     },
     "output_type": "display_data"
    }
   ],
   "source": [
    "# \"상권업종소분류명\"으로 갯수를 세어보자\n",
    "# 판다스의 plot.bar()를 사용해서 막대그래프를 그려보자\n",
    "c.plot.barh(figsize=(7,8),grid=True) # grid = True : 격자 표시"
   ]
  },
  {
   "cell_type": "markdown",
   "metadata": {},
   "source": [
    "## 데이터 색인하기\n",
    "* 특정 데이터만 모아서 따로 봄"
   ]
  },
  {
   "cell_type": "code",
   "execution_count": 49,
   "metadata": {},
   "outputs": [
    {
     "data": {
      "text/html": [
       "<div>\n",
       "<style scoped>\n",
       "    .dataframe tbody tr th:only-of-type {\n",
       "        vertical-align: middle;\n",
       "    }\n",
       "\n",
       "    .dataframe tbody tr th {\n",
       "        vertical-align: top;\n",
       "    }\n",
       "\n",
       "    .dataframe thead th {\n",
       "        text-align: right;\n",
       "    }\n",
       "</style>\n",
       "<table border=\"1\" class=\"dataframe\">\n",
       "  <thead>\n",
       "    <tr style=\"text-align: right;\">\n",
       "      <th></th>\n",
       "      <th>상가업소번호</th>\n",
       "      <th>상호명</th>\n",
       "      <th>상권업종대분류코드</th>\n",
       "      <th>상권업종대분류명</th>\n",
       "      <th>상권업종중분류코드</th>\n",
       "      <th>상권업종중분류명</th>\n",
       "      <th>상권업종소분류코드</th>\n",
       "      <th>상권업종소분류명</th>\n",
       "      <th>시도명</th>\n",
       "      <th>시군구코드</th>\n",
       "      <th>...</th>\n",
       "      <th>지번주소</th>\n",
       "      <th>도로명코드</th>\n",
       "      <th>도로명</th>\n",
       "      <th>건물본번지</th>\n",
       "      <th>건물관리번호</th>\n",
       "      <th>도로명주소</th>\n",
       "      <th>구우편번호</th>\n",
       "      <th>신우편번호</th>\n",
       "      <th>경도</th>\n",
       "      <th>위도</th>\n",
       "    </tr>\n",
       "  </thead>\n",
       "  <tbody>\n",
       "    <tr>\n",
       "      <th>4</th>\n",
       "      <td>20364049</td>\n",
       "      <td>더블유스토어수지점</td>\n",
       "      <td>S</td>\n",
       "      <td>의료</td>\n",
       "      <td>S02</td>\n",
       "      <td>약국/한약방</td>\n",
       "      <td>S02A01</td>\n",
       "      <td>약국</td>\n",
       "      <td>경기도</td>\n",
       "      <td>41465.0</td>\n",
       "      <td>...</td>\n",
       "      <td>경기도 용인시 수지구 풍덕천동 712-2</td>\n",
       "      <td>414653205024</td>\n",
       "      <td>경기도 용인시 수지구 문정로</td>\n",
       "      <td>32</td>\n",
       "      <td>4146510100107120002026238</td>\n",
       "      <td>경기도 용인시 수지구 문정로 32</td>\n",
       "      <td>448170.0</td>\n",
       "      <td>16837.0</td>\n",
       "      <td>127.095522</td>\n",
       "      <td>37.323528</td>\n",
       "    </tr>\n",
       "    <tr>\n",
       "      <th>6</th>\n",
       "      <td>20733252</td>\n",
       "      <td>춘산한약방</td>\n",
       "      <td>S</td>\n",
       "      <td>의료</td>\n",
       "      <td>S02</td>\n",
       "      <td>약국/한약방</td>\n",
       "      <td>S02A02</td>\n",
       "      <td>한약방</td>\n",
       "      <td>강원도</td>\n",
       "      <td>42110.0</td>\n",
       "      <td>...</td>\n",
       "      <td>강원도 춘천시 중앙로2가 99</td>\n",
       "      <td>421104454113</td>\n",
       "      <td>강원도 춘천시 낙원길</td>\n",
       "      <td>50</td>\n",
       "      <td>4211010500101000000023668</td>\n",
       "      <td>강원도 춘천시 낙원길 50</td>\n",
       "      <td>200042.0</td>\n",
       "      <td>24273.0</td>\n",
       "      <td>127.726905</td>\n",
       "      <td>37.880504</td>\n",
       "    </tr>\n",
       "    <tr>\n",
       "      <th>7</th>\n",
       "      <td>20582210</td>\n",
       "      <td>부부탕제원</td>\n",
       "      <td>S</td>\n",
       "      <td>의료</td>\n",
       "      <td>S02</td>\n",
       "      <td>약국/한약방</td>\n",
       "      <td>S02A03</td>\n",
       "      <td>탕제원</td>\n",
       "      <td>충청북도</td>\n",
       "      <td>43111.0</td>\n",
       "      <td>...</td>\n",
       "      <td>충청북도 청주시 상당구 금천동 187-17</td>\n",
       "      <td>431114508623</td>\n",
       "      <td>충청북도 청주시 상당구 중고개로337번길</td>\n",
       "      <td>134</td>\n",
       "      <td>4311112000101870017042942</td>\n",
       "      <td>충청북도 청주시 상당구 중고개로337번길 134</td>\n",
       "      <td>360802.0</td>\n",
       "      <td>28726.0</td>\n",
       "      <td>127.499206</td>\n",
       "      <td>36.625355</td>\n",
       "    </tr>\n",
       "    <tr>\n",
       "      <th>10</th>\n",
       "      <td>21057519</td>\n",
       "      <td>민생약국</td>\n",
       "      <td>S</td>\n",
       "      <td>의료</td>\n",
       "      <td>S02</td>\n",
       "      <td>약국/한약방</td>\n",
       "      <td>S02A01</td>\n",
       "      <td>약국</td>\n",
       "      <td>경상남도</td>\n",
       "      <td>48890.0</td>\n",
       "      <td>...</td>\n",
       "      <td>경상남도 합천군 용주면 월평리 78-2</td>\n",
       "      <td>488904844473</td>\n",
       "      <td>경상남도 합천군 용주면 월평길</td>\n",
       "      <td>149</td>\n",
       "      <td>4889046030200780002048274</td>\n",
       "      <td>경상남도 합천군 용주면 월평길 149-35</td>\n",
       "      <td>678912.0</td>\n",
       "      <td>50212.0</td>\n",
       "      <td>128.118615</td>\n",
       "      <td>35.575962</td>\n",
       "    </tr>\n",
       "    <tr>\n",
       "      <th>13</th>\n",
       "      <td>21217689</td>\n",
       "      <td>제중당한약방</td>\n",
       "      <td>S</td>\n",
       "      <td>의료</td>\n",
       "      <td>S02</td>\n",
       "      <td>약국/한약방</td>\n",
       "      <td>S02A02</td>\n",
       "      <td>한약방</td>\n",
       "      <td>전라남도</td>\n",
       "      <td>46830.0</td>\n",
       "      <td>...</td>\n",
       "      <td>전라남도 영암군 도포면 덕화리 296</td>\n",
       "      <td>468304685396</td>\n",
       "      <td>전라남도 영암군 도포면 인덕길</td>\n",
       "      <td>75</td>\n",
       "      <td>4683035023102960000000001</td>\n",
       "      <td>전라남도 영암군 도포면 인덕길 75-10</td>\n",
       "      <td>526832.0</td>\n",
       "      <td>58429.0</td>\n",
       "      <td>126.630348</td>\n",
       "      <td>34.834080</td>\n",
       "    </tr>\n",
       "  </tbody>\n",
       "</table>\n",
       "<p>5 rows × 29 columns</p>\n",
       "</div>"
      ],
      "text/plain": [
       "      상가업소번호        상호명 상권업종대분류코드 상권업종대분류명 상권업종중분류코드 상권업종중분류명 상권업종소분류코드  \\\n",
       "4   20364049  더블유스토어수지점         S       의료       S02   약국/한약방    S02A01   \n",
       "6   20733252      춘산한약방         S       의료       S02   약국/한약방    S02A02   \n",
       "7   20582210      부부탕제원         S       의료       S02   약국/한약방    S02A03   \n",
       "10  21057519       민생약국         S       의료       S02   약국/한약방    S02A01   \n",
       "13  21217689     제중당한약방         S       의료       S02   약국/한약방    S02A02   \n",
       "\n",
       "   상권업종소분류명   시도명    시군구코드  ...                     지번주소         도로명코드  \\\n",
       "4        약국   경기도  41465.0  ...   경기도 용인시 수지구 풍덕천동 712-2  414653205024   \n",
       "6       한약방   강원도  42110.0  ...         강원도 춘천시 중앙로2가 99  421104454113   \n",
       "7       탕제원  충청북도  43111.0  ...  충청북도 청주시 상당구 금천동 187-17  431114508623   \n",
       "10       약국  경상남도  48890.0  ...    경상남도 합천군 용주면 월평리 78-2  488904844473   \n",
       "13      한약방  전라남도  46830.0  ...     전라남도 영암군 도포면 덕화리 296  468304685396   \n",
       "\n",
       "                       도로명  건물본번지                     건물관리번호  \\\n",
       "4          경기도 용인시 수지구 문정로     32  4146510100107120002026238   \n",
       "6              강원도 춘천시 낙원길     50  4211010500101000000023668   \n",
       "7   충청북도 청주시 상당구 중고개로337번길    134  4311112000101870017042942   \n",
       "10        경상남도 합천군 용주면 월평길    149  4889046030200780002048274   \n",
       "13        전라남도 영암군 도포면 인덕길     75  4683035023102960000000001   \n",
       "\n",
       "                         도로명주소     구우편번호    신우편번호          경도         위도  \n",
       "4           경기도 용인시 수지구 문정로 32  448170.0  16837.0  127.095522  37.323528  \n",
       "6               강원도 춘천시 낙원길 50  200042.0  24273.0  127.726905  37.880504  \n",
       "7   충청북도 청주시 상당구 중고개로337번길 134  360802.0  28726.0  127.499206  36.625355  \n",
       "10     경상남도 합천군 용주면 월평길 149-35  678912.0  50212.0  128.118615  35.575962  \n",
       "13      전라남도 영암군 도포면 인덕길 75-10  526832.0  58429.0  126.630348  34.834080  \n",
       "\n",
       "[5 rows x 29 columns]"
      ]
     },
     "execution_count": 49,
     "metadata": {},
     "output_type": "execute_result"
    }
   ],
   "source": [
    "# \"상권업종중분류명\"이 \"약국/한약방\"인 데이터만 가져와서\n",
    "# df_medical 이라는 변수에 담아보자\n",
    "# head()를 통해 미리보기를 하자\n",
    "\n",
    "df_medical = df[df[\"상권업종중분류명\"] ==\"약국/한약방\"].copy() \n",
    "# 색인한 값을 다른 목적으로 사용하면 복사해서 쓰는 것을 추천\n",
    "# 복사 안하면 df[df[\"상권업종중분류명\"] ==\"약국/한약방\"] <- 이 부분이 수정됨 (원본에 영향이 감)\n",
    "df_medical.head()"
   ]
  },
  {
   "cell_type": "code",
   "execution_count": 50,
   "metadata": {},
   "outputs": [
    {
     "data": {
      "text/plain": [
       "병원          60774\n",
       "약국/한약방      20923\n",
       "수의업          5323\n",
       "유사의료업        3774\n",
       "의료관련서비스업      541\n",
       "Name: 상권업종중분류명, dtype: int64"
      ]
     },
     "execution_count": 50,
     "metadata": {},
     "output_type": "execute_result"
    }
   ],
   "source": [
    "# \"상권업종대분류명\"에서 \"의료\"만 가져오자\n",
    "# df.loc를 사용하면 행, 열을 함께 가져올 수 있음\n",
    "# 이 기능을 통해 \"상권업종중분류명\"만 가져오자\n",
    "# 가져온 결과를 value_count를 통해 중분류의 갯수를 세어보자\n",
    "\n",
    "m = df[\"상권업종대분류명\"] == \"의료\" # 이것만 따로 변수를 지정해서 사용할 수 있음\n",
    "df.loc[m,\"상권업종중분류명\"].value_counts()"
   ]
  },
  {
   "cell_type": "code",
   "execution_count": 51,
   "metadata": {},
   "outputs": [
    {
     "data": {
      "text/plain": [
       "병원          60774\n",
       "약국/한약방      20923\n",
       "수의업          5323\n",
       "유사의료업        3774\n",
       "의료관련서비스업      541\n",
       "Name: 상권업종중분류명, dtype: int64"
      ]
     },
     "execution_count": 51,
     "metadata": {},
     "output_type": "execute_result"
    }
   ],
   "source": [
    "# 위와 똑같은 기능을 수행하는 코드. 아래와 같이 한 줄에 표현할 수도 있음\n",
    "df.loc[df[\"상권업종대분류명\"]== \"의료\", \"상권업종중분류명\"].value_counts()\n"
   ]
  },
  {
   "cell_type": "code",
   "execution_count": 52,
   "metadata": {},
   "outputs": [
    {
     "data": {
      "text/plain": [
       "(3774, 29)"
      ]
     },
     "execution_count": 52,
     "metadata": {},
     "output_type": "execute_result"
    }
   ],
   "source": [
    "# 유사의료업만 따로 모아보자\n",
    "df_medi = df[df[\"상권업종중분류명\"] == \"유사의료업\"]\n",
    "df_medi.shape\n",
    "# df[\"상권업종중분류명\"] == \"유사의료업\" -> boolean / 대괄호를 씌우면 True 값만 가져옴"
   ]
  },
  {
   "cell_type": "code",
   "execution_count": 53,
   "metadata": {},
   "outputs": [
    {
     "data": {
      "text/plain": [
       "리원       152\n",
       "온누리약국    149\n",
       "경희한의원    141\n",
       "우리약국     119\n",
       "중앙약국     111\n",
       "전자담배      98\n",
       "조은약국      95\n",
       "건강약국      87\n",
       "제일약국      79\n",
       "사랑약국      73\n",
       "Name: 상호명, dtype: int64"
      ]
     },
     "execution_count": 53,
     "metadata": {},
     "output_type": "execute_result"
    }
   ],
   "source": [
    "# 상호명을 그룹화해서 갯수를 세어보자\n",
    "# value_counts를 사용해서 상위 10개를 출력하자\n",
    "\n",
    "df[\"상호명\"].value_counts().head(10) # head의 기본 값은 5 -> 10은 별도로 지정해줘야 함\n"
   ]
  },
  {
   "cell_type": "code",
   "execution_count": 54,
   "metadata": {},
   "outputs": [
    {
     "data": {
      "text/plain": [
       "리원          32\n",
       "고려수지침       22\n",
       "대한적십자사      17\n",
       "헌혈의집        12\n",
       "고려수지침학회     10\n",
       "수치과기공소      10\n",
       "제일치과기공소      9\n",
       "이사랑치과기공소     8\n",
       "아트치과기공소      8\n",
       "스마일치과기공소     8\n",
       "Name: 상호명, dtype: int64"
      ]
     },
     "execution_count": 54,
     "metadata": {},
     "output_type": "execute_result"
    }
   ],
   "source": [
    "# 유사의료업만 df_medi 변수에 담겨져 있음\n",
    "# df_medi 변수에서 상호명으로 갯수를 세어보자\n",
    "# 가장 많은 상호 상위 10개를 출력하자\n",
    "df_medi[\"상호명\"].value_counts().head(10)\n"
   ]
  },
  {
   "cell_type": "markdown",
   "metadata": {},
   "source": [
    "### 여러 조건으로 색인하기"
   ]
  },
  {
   "cell_type": "code",
   "execution_count": 55,
   "metadata": {},
   "outputs": [
    {
     "name": "stdout",
     "output_type": "stream",
     "text": [
      "(3579, 29)\n"
     ]
    },
    {
     "data": {
      "text/html": [
       "<div>\n",
       "<style scoped>\n",
       "    .dataframe tbody tr th:only-of-type {\n",
       "        vertical-align: middle;\n",
       "    }\n",
       "\n",
       "    .dataframe tbody tr th {\n",
       "        vertical-align: top;\n",
       "    }\n",
       "\n",
       "    .dataframe thead th {\n",
       "        text-align: right;\n",
       "    }\n",
       "</style>\n",
       "<table border=\"1\" class=\"dataframe\">\n",
       "  <thead>\n",
       "    <tr style=\"text-align: right;\">\n",
       "      <th></th>\n",
       "      <th>상가업소번호</th>\n",
       "      <th>상호명</th>\n",
       "      <th>상권업종대분류코드</th>\n",
       "      <th>상권업종대분류명</th>\n",
       "      <th>상권업종중분류코드</th>\n",
       "      <th>상권업종중분류명</th>\n",
       "      <th>상권업종소분류코드</th>\n",
       "      <th>상권업종소분류명</th>\n",
       "      <th>시도명</th>\n",
       "      <th>시군구코드</th>\n",
       "      <th>...</th>\n",
       "      <th>지번주소</th>\n",
       "      <th>도로명코드</th>\n",
       "      <th>도로명</th>\n",
       "      <th>건물본번지</th>\n",
       "      <th>건물관리번호</th>\n",
       "      <th>도로명주소</th>\n",
       "      <th>구우편번호</th>\n",
       "      <th>신우편번호</th>\n",
       "      <th>경도</th>\n",
       "      <th>위도</th>\n",
       "    </tr>\n",
       "  </thead>\n",
       "  <tbody>\n",
       "    <tr>\n",
       "      <th>33</th>\n",
       "      <td>20816709</td>\n",
       "      <td>이즈타워약</td>\n",
       "      <td>S</td>\n",
       "      <td>의료</td>\n",
       "      <td>S02</td>\n",
       "      <td>약국/한약방</td>\n",
       "      <td>S02A01</td>\n",
       "      <td>약국</td>\n",
       "      <td>서울특별시</td>\n",
       "      <td>11680.0</td>\n",
       "      <td>...</td>\n",
       "      <td>서울특별시 강남구 역삼동 821</td>\n",
       "      <td>116803122010</td>\n",
       "      <td>서울특별시 강남구 테헤란로</td>\n",
       "      <td>101</td>\n",
       "      <td>1168010100108210001000001</td>\n",
       "      <td>서울특별시 강남구 테헤란로 101</td>\n",
       "      <td>135080.0</td>\n",
       "      <td>6134.0</td>\n",
       "      <td>127.028023</td>\n",
       "      <td>37.498656</td>\n",
       "    </tr>\n",
       "  </tbody>\n",
       "</table>\n",
       "<p>1 rows × 29 columns</p>\n",
       "</div>"
      ],
      "text/plain": [
       "      상가업소번호    상호명 상권업종대분류코드 상권업종대분류명 상권업종중분류코드 상권업종중분류명 상권업종소분류코드 상권업종소분류명  \\\n",
       "33  20816709  이즈타워약         S       의료       S02   약국/한약방    S02A01       약국   \n",
       "\n",
       "      시도명    시군구코드  ...               지번주소         도로명코드             도로명  \\\n",
       "33  서울특별시  11680.0  ...  서울특별시 강남구 역삼동 821  116803122010  서울특별시 강남구 테헤란로   \n",
       "\n",
       "    건물본번지                     건물관리번호               도로명주소     구우편번호   신우편번호  \\\n",
       "33    101  1168010100108210001000001  서울특별시 강남구 테헤란로 101  135080.0  6134.0   \n",
       "\n",
       "            경도         위도  \n",
       "33  127.028023  37.498656  \n",
       "\n",
       "[1 rows x 29 columns]"
      ]
     },
     "execution_count": 55,
     "metadata": {},
     "output_type": "execute_result"
    }
   ],
   "source": [
    "# \"상권업종소분류명\"이 \"약국\"인 것과\n",
    "# \"시도명\"이 \"서울틀별시\"인 데이터만 가져온다 (가장 마지막 출력문만이 출력됨)\n",
    "# and == & , or == /\n",
    "\n",
    "# df[\"상권업종소분류명\"] == \"약국\"\n",
    "# df[\"시도명\"] == \"서울특별시\" ##가장 마지막 출력문만이 출력됨\n",
    "\n",
    "df_seoul_drug = df[(df[\"상권업종소분류명\"] == \"약국\") & (df[\"시도명\"] == \"서울특별시\")] # 각 연산자끼리 묶어줘야 함\n",
    "print(df_seoul_drug.shape)\n",
    "df_seoul_drug.head(1)"
   ]
  },
  {
   "cell_type": "markdown",
   "metadata": {},
   "source": [
    "### 구별로 보기"
   ]
  },
  {
   "cell_type": "code",
   "execution_count": 56,
   "metadata": {},
   "outputs": [
    {
     "data": {
      "text/plain": [
       "33        강남구\n",
       "51        강동구\n",
       "130       중랑구\n",
       "136       성동구\n",
       "141      동대문구\n",
       "         ... \n",
       "91239     성북구\n",
       "91275     구로구\n",
       "91288     종로구\n",
       "91301     구로구\n",
       "91322     중랑구\n",
       "Name: 시군구명, Length: 3579, dtype: object"
      ]
     },
     "execution_count": 56,
     "metadata": {},
     "output_type": "execute_result"
    }
   ],
   "source": [
    "# 위에서 색인한 데이터로 \"시군구명\"으로 그룹화해서 갯수를 세어보자\n",
    "# 구별로 약국이 몇개가 있는지 확인하자\n",
    "\n",
    "df_seoul_drug[\"시군구명\"]"
   ]
  },
  {
   "cell_type": "code",
   "execution_count": 57,
   "metadata": {},
   "outputs": [],
   "source": [
    "# normalize=True 를 통해 비율을 구해보자"
   ]
  },
  {
   "cell_type": "code",
   "execution_count": 58,
   "metadata": {},
   "outputs": [],
   "source": [
    "# 위에서 구한 결과를 판다스의 plot.bar()를 활용해 막대그래프로 그리자"
   ]
  },
  {
   "cell_type": "code",
   "execution_count": 59,
   "metadata": {},
   "outputs": [],
   "source": [
    "# \"상권업종소분류명\"이 \"종합병원\"인 것과"
   ]
  }
 ],
 "metadata": {
  "hide_input": false,
  "kernelspec": {
   "display_name": "Python 3",
   "language": "python",
   "name": "python3"
  },
  "language_info": {
   "codemirror_mode": {
    "name": "ipython",
    "version": 3
   },
   "file_extension": ".py",
   "mimetype": "text/x-python",
   "name": "python",
   "nbconvert_exporter": "python",
   "pygments_lexer": "ipython3",
   "version": "3.8.5"
  },
  "toc": {
   "base_numbering": 1,
   "nav_menu": {},
   "number_sections": true,
   "sideBar": true,
   "skip_h1_title": false,
   "title_cell": "Table of Contents",
   "title_sidebar": "Contents",
   "toc_cell": false,
   "toc_position": {},
   "toc_section_display": true,
   "toc_window_display": true
  }
 },
 "nbformat": 4,
 "nbformat_minor": 4
}
